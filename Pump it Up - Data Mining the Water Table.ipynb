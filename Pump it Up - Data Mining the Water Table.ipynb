{
 "cells": [
  {
   "cell_type": "markdown",
   "metadata": {},
   "source": [
    "#### IMPORT LIBRARIES"
   ]
  },
  {
   "cell_type": "code",
   "execution_count": 79,
   "metadata": {},
   "outputs": [],
   "source": [
    "import warnings\n",
    "warnings.filterwarnings('ignore')\n",
    "\n",
    "import pandas as pd\n",
    "import numpy as np\n",
    "import matplotlib.pyplot as plt\n",
    "import seaborn as sns\n",
    "from sklearn.model_selection import train_test_split\n",
    "from sklearn.pipeline import Pipeline\n",
    "from sklearn.preprocessing import StandardScaler, OneHotEncoder\n",
    "from sklearn.compose import ColumnTransformer\n",
    "from sklearn.neighbors import KNeighborsClassifier\n",
    "from sklearn.ensemble import RandomForestClassifier\n",
    "from sklearn.metrics import accuracy_score\n",
    "from sklearn.model_selection import RandomizedSearchCV"
   ]
  },
  {
   "cell_type": "markdown",
   "metadata": {},
   "source": [
    "#### IMPORT DATA"
   ]
  },
  {
   "cell_type": "code",
   "execution_count": 2,
   "metadata": {},
   "outputs": [],
   "source": [
    "train_features = pd.read_csv('./Dataset/Data Mining the Water Table/train_features.csv')\n",
    "train_labels = pd.read_csv('./Dataset/Data Mining the Water Table/train_labels.csv')\n",
    "test = pd.read_csv('./Dataset/Data Mining the Water Table/test.csv')\n",
    "SubmissionFormat = pd.read_csv('./Dataset/Data Mining the Water Table/SubmissionFormat.csv')"
   ]
  },
  {
   "cell_type": "code",
   "execution_count": 3,
   "metadata": {},
   "outputs": [
    {
     "data": {
      "text/html": [
       "<div>\n",
       "<style scoped>\n",
       "    .dataframe tbody tr th:only-of-type {\n",
       "        vertical-align: middle;\n",
       "    }\n",
       "\n",
       "    .dataframe tbody tr th {\n",
       "        vertical-align: top;\n",
       "    }\n",
       "\n",
       "    .dataframe thead th {\n",
       "        text-align: right;\n",
       "    }\n",
       "</style>\n",
       "<table border=\"1\" class=\"dataframe\">\n",
       "  <thead>\n",
       "    <tr style=\"text-align: right;\">\n",
       "      <th></th>\n",
       "      <th>id</th>\n",
       "      <th>amount_tsh</th>\n",
       "      <th>date_recorded</th>\n",
       "      <th>funder</th>\n",
       "      <th>gps_height</th>\n",
       "      <th>installer</th>\n",
       "      <th>longitude</th>\n",
       "      <th>latitude</th>\n",
       "      <th>wpt_name</th>\n",
       "      <th>num_private</th>\n",
       "      <th>...</th>\n",
       "      <th>payment_type</th>\n",
       "      <th>water_quality</th>\n",
       "      <th>quality_group</th>\n",
       "      <th>quantity</th>\n",
       "      <th>quantity_group</th>\n",
       "      <th>source</th>\n",
       "      <th>source_type</th>\n",
       "      <th>source_class</th>\n",
       "      <th>waterpoint_type</th>\n",
       "      <th>waterpoint_type_group</th>\n",
       "    </tr>\n",
       "  </thead>\n",
       "  <tbody>\n",
       "    <tr>\n",
       "      <th>0</th>\n",
       "      <td>69572</td>\n",
       "      <td>6000.0</td>\n",
       "      <td>2011-03-14</td>\n",
       "      <td>Roman</td>\n",
       "      <td>1390</td>\n",
       "      <td>Roman</td>\n",
       "      <td>34.938093</td>\n",
       "      <td>-9.856322</td>\n",
       "      <td>none</td>\n",
       "      <td>0</td>\n",
       "      <td>...</td>\n",
       "      <td>annually</td>\n",
       "      <td>soft</td>\n",
       "      <td>good</td>\n",
       "      <td>enough</td>\n",
       "      <td>enough</td>\n",
       "      <td>spring</td>\n",
       "      <td>spring</td>\n",
       "      <td>groundwater</td>\n",
       "      <td>communal standpipe</td>\n",
       "      <td>communal standpipe</td>\n",
       "    </tr>\n",
       "    <tr>\n",
       "      <th>1</th>\n",
       "      <td>8776</td>\n",
       "      <td>0.0</td>\n",
       "      <td>2013-03-06</td>\n",
       "      <td>Grumeti</td>\n",
       "      <td>1399</td>\n",
       "      <td>GRUMETI</td>\n",
       "      <td>34.698766</td>\n",
       "      <td>-2.147466</td>\n",
       "      <td>Zahanati</td>\n",
       "      <td>0</td>\n",
       "      <td>...</td>\n",
       "      <td>never pay</td>\n",
       "      <td>soft</td>\n",
       "      <td>good</td>\n",
       "      <td>insufficient</td>\n",
       "      <td>insufficient</td>\n",
       "      <td>rainwater harvesting</td>\n",
       "      <td>rainwater harvesting</td>\n",
       "      <td>surface</td>\n",
       "      <td>communal standpipe</td>\n",
       "      <td>communal standpipe</td>\n",
       "    </tr>\n",
       "    <tr>\n",
       "      <th>2</th>\n",
       "      <td>34310</td>\n",
       "      <td>25.0</td>\n",
       "      <td>2013-02-25</td>\n",
       "      <td>Lottery Club</td>\n",
       "      <td>686</td>\n",
       "      <td>World vision</td>\n",
       "      <td>37.460664</td>\n",
       "      <td>-3.821329</td>\n",
       "      <td>Kwa Mahundi</td>\n",
       "      <td>0</td>\n",
       "      <td>...</td>\n",
       "      <td>per bucket</td>\n",
       "      <td>soft</td>\n",
       "      <td>good</td>\n",
       "      <td>enough</td>\n",
       "      <td>enough</td>\n",
       "      <td>dam</td>\n",
       "      <td>dam</td>\n",
       "      <td>surface</td>\n",
       "      <td>communal standpipe multiple</td>\n",
       "      <td>communal standpipe</td>\n",
       "    </tr>\n",
       "    <tr>\n",
       "      <th>3</th>\n",
       "      <td>67743</td>\n",
       "      <td>0.0</td>\n",
       "      <td>2013-01-28</td>\n",
       "      <td>Unicef</td>\n",
       "      <td>263</td>\n",
       "      <td>UNICEF</td>\n",
       "      <td>38.486161</td>\n",
       "      <td>-11.155298</td>\n",
       "      <td>Zahanati Ya Nanyumbu</td>\n",
       "      <td>0</td>\n",
       "      <td>...</td>\n",
       "      <td>never pay</td>\n",
       "      <td>soft</td>\n",
       "      <td>good</td>\n",
       "      <td>dry</td>\n",
       "      <td>dry</td>\n",
       "      <td>machine dbh</td>\n",
       "      <td>borehole</td>\n",
       "      <td>groundwater</td>\n",
       "      <td>communal standpipe multiple</td>\n",
       "      <td>communal standpipe</td>\n",
       "    </tr>\n",
       "    <tr>\n",
       "      <th>4</th>\n",
       "      <td>19728</td>\n",
       "      <td>0.0</td>\n",
       "      <td>2011-07-13</td>\n",
       "      <td>Action In A</td>\n",
       "      <td>0</td>\n",
       "      <td>Artisan</td>\n",
       "      <td>31.130847</td>\n",
       "      <td>-1.825359</td>\n",
       "      <td>Shuleni</td>\n",
       "      <td>0</td>\n",
       "      <td>...</td>\n",
       "      <td>never pay</td>\n",
       "      <td>soft</td>\n",
       "      <td>good</td>\n",
       "      <td>seasonal</td>\n",
       "      <td>seasonal</td>\n",
       "      <td>rainwater harvesting</td>\n",
       "      <td>rainwater harvesting</td>\n",
       "      <td>surface</td>\n",
       "      <td>communal standpipe</td>\n",
       "      <td>communal standpipe</td>\n",
       "    </tr>\n",
       "  </tbody>\n",
       "</table>\n",
       "<p>5 rows × 40 columns</p>\n",
       "</div>"
      ],
      "text/plain": [
       "      id  amount_tsh date_recorded        funder  gps_height     installer  \\\n",
       "0  69572      6000.0    2011-03-14         Roman        1390         Roman   \n",
       "1   8776         0.0    2013-03-06       Grumeti        1399       GRUMETI   \n",
       "2  34310        25.0    2013-02-25  Lottery Club         686  World vision   \n",
       "3  67743         0.0    2013-01-28        Unicef         263        UNICEF   \n",
       "4  19728         0.0    2011-07-13   Action In A           0       Artisan   \n",
       "\n",
       "   longitude   latitude              wpt_name  num_private  ... payment_type  \\\n",
       "0  34.938093  -9.856322                  none            0  ...     annually   \n",
       "1  34.698766  -2.147466              Zahanati            0  ...    never pay   \n",
       "2  37.460664  -3.821329           Kwa Mahundi            0  ...   per bucket   \n",
       "3  38.486161 -11.155298  Zahanati Ya Nanyumbu            0  ...    never pay   \n",
       "4  31.130847  -1.825359               Shuleni            0  ...    never pay   \n",
       "\n",
       "  water_quality quality_group      quantity  quantity_group  \\\n",
       "0          soft          good        enough          enough   \n",
       "1          soft          good  insufficient    insufficient   \n",
       "2          soft          good        enough          enough   \n",
       "3          soft          good           dry             dry   \n",
       "4          soft          good      seasonal        seasonal   \n",
       "\n",
       "                 source           source_type  source_class  \\\n",
       "0                spring                spring   groundwater   \n",
       "1  rainwater harvesting  rainwater harvesting       surface   \n",
       "2                   dam                   dam       surface   \n",
       "3           machine dbh              borehole   groundwater   \n",
       "4  rainwater harvesting  rainwater harvesting       surface   \n",
       "\n",
       "               waterpoint_type waterpoint_type_group  \n",
       "0           communal standpipe    communal standpipe  \n",
       "1           communal standpipe    communal standpipe  \n",
       "2  communal standpipe multiple    communal standpipe  \n",
       "3  communal standpipe multiple    communal standpipe  \n",
       "4           communal standpipe    communal standpipe  \n",
       "\n",
       "[5 rows x 40 columns]"
      ]
     },
     "execution_count": 3,
     "metadata": {},
     "output_type": "execute_result"
    }
   ],
   "source": [
    "train_features.head()"
   ]
  },
  {
   "cell_type": "code",
   "execution_count": 4,
   "metadata": {},
   "outputs": [
    {
     "data": {
      "text/html": [
       "<div>\n",
       "<style scoped>\n",
       "    .dataframe tbody tr th:only-of-type {\n",
       "        vertical-align: middle;\n",
       "    }\n",
       "\n",
       "    .dataframe tbody tr th {\n",
       "        vertical-align: top;\n",
       "    }\n",
       "\n",
       "    .dataframe thead th {\n",
       "        text-align: right;\n",
       "    }\n",
       "</style>\n",
       "<table border=\"1\" class=\"dataframe\">\n",
       "  <thead>\n",
       "    <tr style=\"text-align: right;\">\n",
       "      <th></th>\n",
       "      <th>id</th>\n",
       "      <th>status_group</th>\n",
       "    </tr>\n",
       "  </thead>\n",
       "  <tbody>\n",
       "    <tr>\n",
       "      <th>0</th>\n",
       "      <td>69572</td>\n",
       "      <td>functional</td>\n",
       "    </tr>\n",
       "    <tr>\n",
       "      <th>1</th>\n",
       "      <td>8776</td>\n",
       "      <td>functional</td>\n",
       "    </tr>\n",
       "    <tr>\n",
       "      <th>2</th>\n",
       "      <td>34310</td>\n",
       "      <td>functional</td>\n",
       "    </tr>\n",
       "    <tr>\n",
       "      <th>3</th>\n",
       "      <td>67743</td>\n",
       "      <td>non functional</td>\n",
       "    </tr>\n",
       "    <tr>\n",
       "      <th>4</th>\n",
       "      <td>19728</td>\n",
       "      <td>functional</td>\n",
       "    </tr>\n",
       "  </tbody>\n",
       "</table>\n",
       "</div>"
      ],
      "text/plain": [
       "      id    status_group\n",
       "0  69572      functional\n",
       "1   8776      functional\n",
       "2  34310      functional\n",
       "3  67743  non functional\n",
       "4  19728      functional"
      ]
     },
     "execution_count": 4,
     "metadata": {},
     "output_type": "execute_result"
    }
   ],
   "source": [
    "train_labels.head()"
   ]
  },
  {
   "cell_type": "markdown",
   "metadata": {},
   "source": [
    "#### MERGING TRAIN DATA"
   ]
  },
  {
   "cell_type": "code",
   "execution_count": 5,
   "metadata": {},
   "outputs": [
    {
     "data": {
      "text/html": [
       "<div>\n",
       "<style scoped>\n",
       "    .dataframe tbody tr th:only-of-type {\n",
       "        vertical-align: middle;\n",
       "    }\n",
       "\n",
       "    .dataframe tbody tr th {\n",
       "        vertical-align: top;\n",
       "    }\n",
       "\n",
       "    .dataframe thead th {\n",
       "        text-align: right;\n",
       "    }\n",
       "</style>\n",
       "<table border=\"1\" class=\"dataframe\">\n",
       "  <thead>\n",
       "    <tr style=\"text-align: right;\">\n",
       "      <th></th>\n",
       "      <th>id</th>\n",
       "      <th>amount_tsh</th>\n",
       "      <th>date_recorded</th>\n",
       "      <th>funder</th>\n",
       "      <th>gps_height</th>\n",
       "      <th>installer</th>\n",
       "      <th>longitude</th>\n",
       "      <th>latitude</th>\n",
       "      <th>wpt_name</th>\n",
       "      <th>num_private</th>\n",
       "      <th>...</th>\n",
       "      <th>water_quality</th>\n",
       "      <th>quality_group</th>\n",
       "      <th>quantity</th>\n",
       "      <th>quantity_group</th>\n",
       "      <th>source</th>\n",
       "      <th>source_type</th>\n",
       "      <th>source_class</th>\n",
       "      <th>waterpoint_type</th>\n",
       "      <th>waterpoint_type_group</th>\n",
       "      <th>status_group</th>\n",
       "    </tr>\n",
       "  </thead>\n",
       "  <tbody>\n",
       "    <tr>\n",
       "      <th>0</th>\n",
       "      <td>69572</td>\n",
       "      <td>6000.0</td>\n",
       "      <td>2011-03-14</td>\n",
       "      <td>Roman</td>\n",
       "      <td>1390</td>\n",
       "      <td>Roman</td>\n",
       "      <td>34.938093</td>\n",
       "      <td>-9.856322</td>\n",
       "      <td>none</td>\n",
       "      <td>0</td>\n",
       "      <td>...</td>\n",
       "      <td>soft</td>\n",
       "      <td>good</td>\n",
       "      <td>enough</td>\n",
       "      <td>enough</td>\n",
       "      <td>spring</td>\n",
       "      <td>spring</td>\n",
       "      <td>groundwater</td>\n",
       "      <td>communal standpipe</td>\n",
       "      <td>communal standpipe</td>\n",
       "      <td>functional</td>\n",
       "    </tr>\n",
       "    <tr>\n",
       "      <th>1</th>\n",
       "      <td>8776</td>\n",
       "      <td>0.0</td>\n",
       "      <td>2013-03-06</td>\n",
       "      <td>Grumeti</td>\n",
       "      <td>1399</td>\n",
       "      <td>GRUMETI</td>\n",
       "      <td>34.698766</td>\n",
       "      <td>-2.147466</td>\n",
       "      <td>Zahanati</td>\n",
       "      <td>0</td>\n",
       "      <td>...</td>\n",
       "      <td>soft</td>\n",
       "      <td>good</td>\n",
       "      <td>insufficient</td>\n",
       "      <td>insufficient</td>\n",
       "      <td>rainwater harvesting</td>\n",
       "      <td>rainwater harvesting</td>\n",
       "      <td>surface</td>\n",
       "      <td>communal standpipe</td>\n",
       "      <td>communal standpipe</td>\n",
       "      <td>functional</td>\n",
       "    </tr>\n",
       "    <tr>\n",
       "      <th>2</th>\n",
       "      <td>34310</td>\n",
       "      <td>25.0</td>\n",
       "      <td>2013-02-25</td>\n",
       "      <td>Lottery Club</td>\n",
       "      <td>686</td>\n",
       "      <td>World vision</td>\n",
       "      <td>37.460664</td>\n",
       "      <td>-3.821329</td>\n",
       "      <td>Kwa Mahundi</td>\n",
       "      <td>0</td>\n",
       "      <td>...</td>\n",
       "      <td>soft</td>\n",
       "      <td>good</td>\n",
       "      <td>enough</td>\n",
       "      <td>enough</td>\n",
       "      <td>dam</td>\n",
       "      <td>dam</td>\n",
       "      <td>surface</td>\n",
       "      <td>communal standpipe multiple</td>\n",
       "      <td>communal standpipe</td>\n",
       "      <td>functional</td>\n",
       "    </tr>\n",
       "    <tr>\n",
       "      <th>3</th>\n",
       "      <td>67743</td>\n",
       "      <td>0.0</td>\n",
       "      <td>2013-01-28</td>\n",
       "      <td>Unicef</td>\n",
       "      <td>263</td>\n",
       "      <td>UNICEF</td>\n",
       "      <td>38.486161</td>\n",
       "      <td>-11.155298</td>\n",
       "      <td>Zahanati Ya Nanyumbu</td>\n",
       "      <td>0</td>\n",
       "      <td>...</td>\n",
       "      <td>soft</td>\n",
       "      <td>good</td>\n",
       "      <td>dry</td>\n",
       "      <td>dry</td>\n",
       "      <td>machine dbh</td>\n",
       "      <td>borehole</td>\n",
       "      <td>groundwater</td>\n",
       "      <td>communal standpipe multiple</td>\n",
       "      <td>communal standpipe</td>\n",
       "      <td>non functional</td>\n",
       "    </tr>\n",
       "    <tr>\n",
       "      <th>4</th>\n",
       "      <td>19728</td>\n",
       "      <td>0.0</td>\n",
       "      <td>2011-07-13</td>\n",
       "      <td>Action In A</td>\n",
       "      <td>0</td>\n",
       "      <td>Artisan</td>\n",
       "      <td>31.130847</td>\n",
       "      <td>-1.825359</td>\n",
       "      <td>Shuleni</td>\n",
       "      <td>0</td>\n",
       "      <td>...</td>\n",
       "      <td>soft</td>\n",
       "      <td>good</td>\n",
       "      <td>seasonal</td>\n",
       "      <td>seasonal</td>\n",
       "      <td>rainwater harvesting</td>\n",
       "      <td>rainwater harvesting</td>\n",
       "      <td>surface</td>\n",
       "      <td>communal standpipe</td>\n",
       "      <td>communal standpipe</td>\n",
       "      <td>functional</td>\n",
       "    </tr>\n",
       "  </tbody>\n",
       "</table>\n",
       "<p>5 rows × 41 columns</p>\n",
       "</div>"
      ],
      "text/plain": [
       "      id  amount_tsh date_recorded        funder  gps_height     installer  \\\n",
       "0  69572      6000.0    2011-03-14         Roman        1390         Roman   \n",
       "1   8776         0.0    2013-03-06       Grumeti        1399       GRUMETI   \n",
       "2  34310        25.0    2013-02-25  Lottery Club         686  World vision   \n",
       "3  67743         0.0    2013-01-28        Unicef         263        UNICEF   \n",
       "4  19728         0.0    2011-07-13   Action In A           0       Artisan   \n",
       "\n",
       "   longitude   latitude              wpt_name  num_private  ... water_quality  \\\n",
       "0  34.938093  -9.856322                  none            0  ...          soft   \n",
       "1  34.698766  -2.147466              Zahanati            0  ...          soft   \n",
       "2  37.460664  -3.821329           Kwa Mahundi            0  ...          soft   \n",
       "3  38.486161 -11.155298  Zahanati Ya Nanyumbu            0  ...          soft   \n",
       "4  31.130847  -1.825359               Shuleni            0  ...          soft   \n",
       "\n",
       "  quality_group      quantity  quantity_group                source  \\\n",
       "0          good        enough          enough                spring   \n",
       "1          good  insufficient    insufficient  rainwater harvesting   \n",
       "2          good        enough          enough                   dam   \n",
       "3          good           dry             dry           machine dbh   \n",
       "4          good      seasonal        seasonal  rainwater harvesting   \n",
       "\n",
       "            source_type source_class              waterpoint_type  \\\n",
       "0                spring  groundwater           communal standpipe   \n",
       "1  rainwater harvesting      surface           communal standpipe   \n",
       "2                   dam      surface  communal standpipe multiple   \n",
       "3              borehole  groundwater  communal standpipe multiple   \n",
       "4  rainwater harvesting      surface           communal standpipe   \n",
       "\n",
       "  waterpoint_type_group    status_group  \n",
       "0    communal standpipe      functional  \n",
       "1    communal standpipe      functional  \n",
       "2    communal standpipe      functional  \n",
       "3    communal standpipe  non functional  \n",
       "4    communal standpipe      functional  \n",
       "\n",
       "[5 rows x 41 columns]"
      ]
     },
     "execution_count": 5,
     "metadata": {},
     "output_type": "execute_result"
    }
   ],
   "source": [
    "train_joined = pd.merge(train_features, \n",
    "                        train_labels)\n",
    "#check\n",
    "train_joined.head()"
   ]
  },
  {
   "cell_type": "markdown",
   "metadata": {},
   "source": [
    "#### DATA CLEANING"
   ]
  },
  {
   "cell_type": "markdown",
   "metadata": {},
   "source": [
    "##### TRAIN DATA"
   ]
  },
  {
   "cell_type": "code",
   "execution_count": 6,
   "metadata": {},
   "outputs": [
    {
     "data": {
      "text/html": [
       "<div>\n",
       "<style scoped>\n",
       "    .dataframe tbody tr th:only-of-type {\n",
       "        vertical-align: middle;\n",
       "    }\n",
       "\n",
       "    .dataframe tbody tr th {\n",
       "        vertical-align: top;\n",
       "    }\n",
       "\n",
       "    .dataframe thead th {\n",
       "        text-align: right;\n",
       "    }\n",
       "</style>\n",
       "<table border=\"1\" class=\"dataframe\">\n",
       "  <thead>\n",
       "    <tr style=\"text-align: right;\">\n",
       "      <th></th>\n",
       "      <th>Row With Missing Value</th>\n",
       "      <th>Percentage (%)</th>\n",
       "    </tr>\n",
       "  </thead>\n",
       "  <tbody>\n",
       "    <tr>\n",
       "      <th>scheme_name</th>\n",
       "      <td>28166</td>\n",
       "      <td>47.42</td>\n",
       "    </tr>\n",
       "    <tr>\n",
       "      <th>scheme_management</th>\n",
       "      <td>3877</td>\n",
       "      <td>6.53</td>\n",
       "    </tr>\n",
       "    <tr>\n",
       "      <th>installer</th>\n",
       "      <td>3655</td>\n",
       "      <td>6.15</td>\n",
       "    </tr>\n",
       "    <tr>\n",
       "      <th>funder</th>\n",
       "      <td>3635</td>\n",
       "      <td>6.12</td>\n",
       "    </tr>\n",
       "    <tr>\n",
       "      <th>public_meeting</th>\n",
       "      <td>3334</td>\n",
       "      <td>5.61</td>\n",
       "    </tr>\n",
       "    <tr>\n",
       "      <th>permit</th>\n",
       "      <td>3056</td>\n",
       "      <td>5.14</td>\n",
       "    </tr>\n",
       "    <tr>\n",
       "      <th>subvillage</th>\n",
       "      <td>371</td>\n",
       "      <td>0.62</td>\n",
       "    </tr>\n",
       "  </tbody>\n",
       "</table>\n",
       "</div>"
      ],
      "text/plain": [
       "                   Row With Missing Value  Percentage (%)\n",
       "scheme_name                         28166           47.42\n",
       "scheme_management                    3877            6.53\n",
       "installer                            3655            6.15\n",
       "funder                               3635            6.12\n",
       "public_meeting                       3334            5.61\n",
       "permit                               3056            5.14\n",
       "subvillage                            371            0.62"
      ]
     },
     "execution_count": 6,
     "metadata": {},
     "output_type": "execute_result"
    }
   ],
   "source": [
    "#checking missing values\n",
    "\n",
    "#def function to get missing values\n",
    "def get_missing_value(df):\n",
    "    mis_val = df.isnull().sum()\n",
    "    tot_val = df.shape[0]\n",
    "    mis_percentage = round((100 * mis_val / tot_val),\n",
    "                           2)\n",
    "    miss_tab = pd.concat([mis_val, mis_percentage], \n",
    "                         axis=1)\n",
    "    miss_tab_col_name = miss_tab.rename(columns = {0 : 'Row With Missing Value', \n",
    "                                                   1 : 'Percentage (%)'})\n",
    "    miss_tab_col_name = miss_tab_col_name.sort_values('Percentage (%)',ascending=False)\n",
    "    return miss_tab_col_name[miss_tab_col_name[\"Row With Missing Value\"]>0]\n",
    "\n",
    "get_missing_value(train_features)"
   ]
  },
  {
   "cell_type": "code",
   "execution_count": 7,
   "metadata": {},
   "outputs": [],
   "source": [
    "#drop column with too many missing values, I give limit of 10%\n",
    "drop_column = get_missing_value(train_features)[get_missing_value(train_features)[\"Percentage (%)\"] > 10].index\n",
    "\n",
    "train_joined = train_joined.drop(columns = drop_column,\n",
    "                                  axis = 1)"
   ]
  },
  {
   "cell_type": "code",
   "execution_count": 8,
   "metadata": {},
   "outputs": [
    {
     "data": {
      "text/plain": [
       "Index(['scheme_management', 'installer', 'funder', 'public_meeting', 'permit',\n",
       "       'subvillage'],\n",
       "      dtype='object')"
      ]
     },
     "execution_count": 8,
     "metadata": {},
     "output_type": "execute_result"
    }
   ],
   "source": [
    "get_missing_value(train_joined)[get_missing_value(train_joined)[\"Row With Missing Value\"] > 0].index"
   ]
  },
  {
   "cell_type": "code",
   "execution_count": 9,
   "metadata": {},
   "outputs": [
    {
     "name": "stdout",
     "output_type": "stream",
     "text": [
      "unique value in scheme_management column : 13\n",
      "unique value in installer column : 2146\n",
      "unique value in funder column : 1898\n",
      "unique value in public_meeting column : 3\n",
      "unique value in permit column : 3\n",
      "unique value in subvillage column : 19288\n"
     ]
    }
   ],
   "source": [
    "miss_train_join = get_missing_value(train_joined)\n",
    "\n",
    "for i in miss_train_join[miss_train_join[\"Row With Missing Value\"] > 0].index:\n",
    "    print(\"unique value in\",i,\"column :\",len(train_joined[i].unique()))"
   ]
  },
  {
   "cell_type": "code",
   "execution_count": 10,
   "metadata": {},
   "outputs": [],
   "source": [
    "#drop column with too many unique values\n",
    "train_joined = train_joined.drop(columns = [\"installer\", \"funder\", \"subvillage\", \"scheme_management\"],\n",
    "                                axis = 1)"
   ]
  },
  {
   "cell_type": "code",
   "execution_count": 11,
   "metadata": {},
   "outputs": [
    {
     "name": "stdout",
     "output_type": "stream",
     "text": [
      "unique value in public_meeting column : [True nan False]\n",
      "unique value in permit column : [False True nan]\n"
     ]
    }
   ],
   "source": [
    "#checking unique values\n",
    "miss_train_join = get_missing_value(train_joined)\n",
    "\n",
    "for i in miss_train_join[miss_train_join[\"Row With Missing Value\"] > 0].index:\n",
    "    print(\"unique value in\",i,\"column :\",train_joined[i].unique())"
   ]
  },
  {
   "cell_type": "code",
   "execution_count": 12,
   "metadata": {},
   "outputs": [
    {
     "name": "stdout",
     "output_type": "stream",
     "text": [
      "public_meeting\n",
      "True     51011\n",
      "False     5055\n",
      "Name: public_meeting, dtype: int64\n",
      "permit\n",
      "True     38852\n",
      "False    17492\n",
      "Name: permit, dtype: int64\n"
     ]
    }
   ],
   "source": [
    "#checking value_counts on columns with missing\n",
    "miss_train_join = get_missing_value(train_joined)\n",
    "\n",
    "for i in miss_train_join[miss_train_join[\"Row With Missing Value\"] > 0].index:\n",
    "    print(i)\n",
    "    print(train_joined[i].value_counts())"
   ]
  },
  {
   "cell_type": "code",
   "execution_count": 13,
   "metadata": {},
   "outputs": [],
   "source": [
    "#filling missing value with the data that appears most often\n",
    "train_joined[\"public_meeting\"] = train_joined[\"public_meeting\"].fillna(True)\n",
    "train_joined[\"permit\"] = train_joined[\"permit\"].fillna(True)"
   ]
  },
  {
   "cell_type": "code",
   "execution_count": 14,
   "metadata": {},
   "outputs": [
    {
     "data": {
      "text/plain": [
       "False"
      ]
     },
     "execution_count": 14,
     "metadata": {},
     "output_type": "execute_result"
    }
   ],
   "source": [
    "#check missing value\n",
    "train_joined.isna().sum().any()"
   ]
  },
  {
   "cell_type": "code",
   "execution_count": 15,
   "metadata": {},
   "outputs": [],
   "source": [
    "#changing construction year to category\n",
    "\n",
    "def construction_wrangler(row):\n",
    "    if row['construction_year'] >= 1960 and row['construction_year'] < 1970:\n",
    "        return '1960s'\n",
    "    elif row['construction_year'] >= 1970 and row['construction_year'] < 1980:\n",
    "        return '1970s'\n",
    "    elif row['construction_year'] >= 1980 and row['construction_year'] < 1990:\n",
    "        return '1980s'\n",
    "    elif row['construction_year'] >= 1990 and row['construction_year'] < 2000:\n",
    "        return '1990s'\n",
    "    elif row['construction_year'] >= 2000 and row['construction_year'] < 2010:\n",
    "        return '2000s'\n",
    "    elif row['construction_year'] >= 2010:\n",
    "        return '2010s'\n",
    "    else:\n",
    "        return 'unknown'\n",
    "    \n",
    "train_joined['construction_year'] = train_joined.apply(lambda row: construction_wrangler(row), axis=1)"
   ]
  },
  {
   "cell_type": "code",
   "execution_count": 16,
   "metadata": {},
   "outputs": [],
   "source": [
    "#dropping unnecessary column\n",
    "train_joined = train_joined.drop(columns = [\"id\", \"wpt_name\"]\n",
    "                                 , axis = 1)"
   ]
  },
  {
   "cell_type": "code",
   "execution_count": 17,
   "metadata": {},
   "outputs": [
    {
     "name": "stdout",
     "output_type": "stream",
     "text": [
      "recorded_by\n"
     ]
    }
   ],
   "source": [
    "#checking single unique values for all columns\n",
    "for i in train_joined.columns:\n",
    "    if len(train_joined[i].unique()) == 1:\n",
    "        print(i)\n",
    "    else:\n",
    "        pass"
   ]
  },
  {
   "cell_type": "code",
   "execution_count": 18,
   "metadata": {},
   "outputs": [],
   "source": [
    "#dropping column with single unique value\n",
    "train_joined = train_joined.drop(columns = [\"recorded_by\"]\n",
    "                                 , axis = 1)"
   ]
  },
  {
   "cell_type": "code",
   "execution_count": 19,
   "metadata": {},
   "outputs": [
    {
     "data": {
      "text/html": [
       "<div>\n",
       "<style scoped>\n",
       "    .dataframe tbody tr th:only-of-type {\n",
       "        vertical-align: middle;\n",
       "    }\n",
       "\n",
       "    .dataframe tbody tr th {\n",
       "        vertical-align: top;\n",
       "    }\n",
       "\n",
       "    .dataframe thead th {\n",
       "        text-align: right;\n",
       "    }\n",
       "</style>\n",
       "<table border=\"1\" class=\"dataframe\">\n",
       "  <thead>\n",
       "    <tr style=\"text-align: right;\">\n",
       "      <th></th>\n",
       "      <th>amount_tsh</th>\n",
       "      <th>date_recorded</th>\n",
       "      <th>gps_height</th>\n",
       "      <th>longitude</th>\n",
       "      <th>latitude</th>\n",
       "      <th>num_private</th>\n",
       "      <th>basin</th>\n",
       "      <th>region</th>\n",
       "      <th>region_code</th>\n",
       "      <th>district_code</th>\n",
       "      <th>lga</th>\n",
       "      <th>ward</th>\n",
       "      <th>population</th>\n",
       "      <th>public_meeting</th>\n",
       "      <th>permit</th>\n",
       "      <th>construction_year</th>\n",
       "      <th>extraction_type</th>\n",
       "      <th>extraction_type_group</th>\n",
       "      <th>extraction_type_class</th>\n",
       "      <th>management</th>\n",
       "      <th>management_group</th>\n",
       "      <th>payment</th>\n",
       "      <th>payment_type</th>\n",
       "      <th>water_quality</th>\n",
       "      <th>quality_group</th>\n",
       "      <th>quantity</th>\n",
       "      <th>quantity_group</th>\n",
       "      <th>source</th>\n",
       "      <th>source_type</th>\n",
       "      <th>source_class</th>\n",
       "      <th>waterpoint_type</th>\n",
       "      <th>waterpoint_type_group</th>\n",
       "      <th>status_group</th>\n",
       "    </tr>\n",
       "  </thead>\n",
       "  <tbody>\n",
       "    <tr>\n",
       "      <th>0</th>\n",
       "      <td>6000.0</td>\n",
       "      <td>2011-03-14</td>\n",
       "      <td>1390</td>\n",
       "      <td>34.938093</td>\n",
       "      <td>-9.856322</td>\n",
       "      <td>0</td>\n",
       "      <td>Lake Nyasa</td>\n",
       "      <td>Iringa</td>\n",
       "      <td>11</td>\n",
       "      <td>5</td>\n",
       "      <td>Ludewa</td>\n",
       "      <td>Mundindi</td>\n",
       "      <td>109</td>\n",
       "      <td>True</td>\n",
       "      <td>False</td>\n",
       "      <td>1990s</td>\n",
       "      <td>gravity</td>\n",
       "      <td>gravity</td>\n",
       "      <td>gravity</td>\n",
       "      <td>vwc</td>\n",
       "      <td>user-group</td>\n",
       "      <td>pay annually</td>\n",
       "      <td>annually</td>\n",
       "      <td>soft</td>\n",
       "      <td>good</td>\n",
       "      <td>enough</td>\n",
       "      <td>enough</td>\n",
       "      <td>spring</td>\n",
       "      <td>spring</td>\n",
       "      <td>groundwater</td>\n",
       "      <td>communal standpipe</td>\n",
       "      <td>communal standpipe</td>\n",
       "      <td>functional</td>\n",
       "    </tr>\n",
       "    <tr>\n",
       "      <th>1</th>\n",
       "      <td>0.0</td>\n",
       "      <td>2013-03-06</td>\n",
       "      <td>1399</td>\n",
       "      <td>34.698766</td>\n",
       "      <td>-2.147466</td>\n",
       "      <td>0</td>\n",
       "      <td>Lake Victoria</td>\n",
       "      <td>Mara</td>\n",
       "      <td>20</td>\n",
       "      <td>2</td>\n",
       "      <td>Serengeti</td>\n",
       "      <td>Natta</td>\n",
       "      <td>280</td>\n",
       "      <td>True</td>\n",
       "      <td>True</td>\n",
       "      <td>2010s</td>\n",
       "      <td>gravity</td>\n",
       "      <td>gravity</td>\n",
       "      <td>gravity</td>\n",
       "      <td>wug</td>\n",
       "      <td>user-group</td>\n",
       "      <td>never pay</td>\n",
       "      <td>never pay</td>\n",
       "      <td>soft</td>\n",
       "      <td>good</td>\n",
       "      <td>insufficient</td>\n",
       "      <td>insufficient</td>\n",
       "      <td>rainwater harvesting</td>\n",
       "      <td>rainwater harvesting</td>\n",
       "      <td>surface</td>\n",
       "      <td>communal standpipe</td>\n",
       "      <td>communal standpipe</td>\n",
       "      <td>functional</td>\n",
       "    </tr>\n",
       "    <tr>\n",
       "      <th>2</th>\n",
       "      <td>25.0</td>\n",
       "      <td>2013-02-25</td>\n",
       "      <td>686</td>\n",
       "      <td>37.460664</td>\n",
       "      <td>-3.821329</td>\n",
       "      <td>0</td>\n",
       "      <td>Pangani</td>\n",
       "      <td>Manyara</td>\n",
       "      <td>21</td>\n",
       "      <td>4</td>\n",
       "      <td>Simanjiro</td>\n",
       "      <td>Ngorika</td>\n",
       "      <td>250</td>\n",
       "      <td>True</td>\n",
       "      <td>True</td>\n",
       "      <td>2000s</td>\n",
       "      <td>gravity</td>\n",
       "      <td>gravity</td>\n",
       "      <td>gravity</td>\n",
       "      <td>vwc</td>\n",
       "      <td>user-group</td>\n",
       "      <td>pay per bucket</td>\n",
       "      <td>per bucket</td>\n",
       "      <td>soft</td>\n",
       "      <td>good</td>\n",
       "      <td>enough</td>\n",
       "      <td>enough</td>\n",
       "      <td>dam</td>\n",
       "      <td>dam</td>\n",
       "      <td>surface</td>\n",
       "      <td>communal standpipe multiple</td>\n",
       "      <td>communal standpipe</td>\n",
       "      <td>functional</td>\n",
       "    </tr>\n",
       "    <tr>\n",
       "      <th>3</th>\n",
       "      <td>0.0</td>\n",
       "      <td>2013-01-28</td>\n",
       "      <td>263</td>\n",
       "      <td>38.486161</td>\n",
       "      <td>-11.155298</td>\n",
       "      <td>0</td>\n",
       "      <td>Ruvuma / Southern Coast</td>\n",
       "      <td>Mtwara</td>\n",
       "      <td>90</td>\n",
       "      <td>63</td>\n",
       "      <td>Nanyumbu</td>\n",
       "      <td>Nanyumbu</td>\n",
       "      <td>58</td>\n",
       "      <td>True</td>\n",
       "      <td>True</td>\n",
       "      <td>1980s</td>\n",
       "      <td>submersible</td>\n",
       "      <td>submersible</td>\n",
       "      <td>submersible</td>\n",
       "      <td>vwc</td>\n",
       "      <td>user-group</td>\n",
       "      <td>never pay</td>\n",
       "      <td>never pay</td>\n",
       "      <td>soft</td>\n",
       "      <td>good</td>\n",
       "      <td>dry</td>\n",
       "      <td>dry</td>\n",
       "      <td>machine dbh</td>\n",
       "      <td>borehole</td>\n",
       "      <td>groundwater</td>\n",
       "      <td>communal standpipe multiple</td>\n",
       "      <td>communal standpipe</td>\n",
       "      <td>non functional</td>\n",
       "    </tr>\n",
       "    <tr>\n",
       "      <th>4</th>\n",
       "      <td>0.0</td>\n",
       "      <td>2011-07-13</td>\n",
       "      <td>0</td>\n",
       "      <td>31.130847</td>\n",
       "      <td>-1.825359</td>\n",
       "      <td>0</td>\n",
       "      <td>Lake Victoria</td>\n",
       "      <td>Kagera</td>\n",
       "      <td>18</td>\n",
       "      <td>1</td>\n",
       "      <td>Karagwe</td>\n",
       "      <td>Nyakasimbi</td>\n",
       "      <td>0</td>\n",
       "      <td>True</td>\n",
       "      <td>True</td>\n",
       "      <td>unknown</td>\n",
       "      <td>gravity</td>\n",
       "      <td>gravity</td>\n",
       "      <td>gravity</td>\n",
       "      <td>other</td>\n",
       "      <td>other</td>\n",
       "      <td>never pay</td>\n",
       "      <td>never pay</td>\n",
       "      <td>soft</td>\n",
       "      <td>good</td>\n",
       "      <td>seasonal</td>\n",
       "      <td>seasonal</td>\n",
       "      <td>rainwater harvesting</td>\n",
       "      <td>rainwater harvesting</td>\n",
       "      <td>surface</td>\n",
       "      <td>communal standpipe</td>\n",
       "      <td>communal standpipe</td>\n",
       "      <td>functional</td>\n",
       "    </tr>\n",
       "  </tbody>\n",
       "</table>\n",
       "</div>"
      ],
      "text/plain": [
       "   amount_tsh date_recorded  gps_height  longitude   latitude  num_private  \\\n",
       "0      6000.0    2011-03-14        1390  34.938093  -9.856322            0   \n",
       "1         0.0    2013-03-06        1399  34.698766  -2.147466            0   \n",
       "2        25.0    2013-02-25         686  37.460664  -3.821329            0   \n",
       "3         0.0    2013-01-28         263  38.486161 -11.155298            0   \n",
       "4         0.0    2011-07-13           0  31.130847  -1.825359            0   \n",
       "\n",
       "                     basin   region  region_code  district_code        lga  \\\n",
       "0               Lake Nyasa   Iringa           11              5     Ludewa   \n",
       "1            Lake Victoria     Mara           20              2  Serengeti   \n",
       "2                  Pangani  Manyara           21              4  Simanjiro   \n",
       "3  Ruvuma / Southern Coast   Mtwara           90             63   Nanyumbu   \n",
       "4            Lake Victoria   Kagera           18              1    Karagwe   \n",
       "\n",
       "         ward  population  public_meeting  permit construction_year  \\\n",
       "0    Mundindi         109            True   False             1990s   \n",
       "1       Natta         280            True    True             2010s   \n",
       "2     Ngorika         250            True    True             2000s   \n",
       "3    Nanyumbu          58            True    True             1980s   \n",
       "4  Nyakasimbi           0            True    True           unknown   \n",
       "\n",
       "  extraction_type extraction_type_group extraction_type_class management  \\\n",
       "0         gravity               gravity               gravity        vwc   \n",
       "1         gravity               gravity               gravity        wug   \n",
       "2         gravity               gravity               gravity        vwc   \n",
       "3     submersible           submersible           submersible        vwc   \n",
       "4         gravity               gravity               gravity      other   \n",
       "\n",
       "  management_group         payment payment_type water_quality quality_group  \\\n",
       "0       user-group    pay annually     annually          soft          good   \n",
       "1       user-group       never pay    never pay          soft          good   \n",
       "2       user-group  pay per bucket   per bucket          soft          good   \n",
       "3       user-group       never pay    never pay          soft          good   \n",
       "4            other       never pay    never pay          soft          good   \n",
       "\n",
       "       quantity quantity_group                source           source_type  \\\n",
       "0        enough         enough                spring                spring   \n",
       "1  insufficient   insufficient  rainwater harvesting  rainwater harvesting   \n",
       "2        enough         enough                   dam                   dam   \n",
       "3           dry            dry           machine dbh              borehole   \n",
       "4      seasonal       seasonal  rainwater harvesting  rainwater harvesting   \n",
       "\n",
       "  source_class              waterpoint_type waterpoint_type_group  \\\n",
       "0  groundwater           communal standpipe    communal standpipe   \n",
       "1      surface           communal standpipe    communal standpipe   \n",
       "2      surface  communal standpipe multiple    communal standpipe   \n",
       "3  groundwater  communal standpipe multiple    communal standpipe   \n",
       "4      surface           communal standpipe    communal standpipe   \n",
       "\n",
       "     status_group  \n",
       "0      functional  \n",
       "1      functional  \n",
       "2      functional  \n",
       "3  non functional  \n",
       "4      functional  "
      ]
     },
     "metadata": {},
     "output_type": "display_data"
    }
   ],
   "source": [
    "#cleaned train data\n",
    "def display_all(df):\n",
    "    with pd.option_context('display.max_rows', 1000):\n",
    "        with pd.option_context('display.max_columns', 1000):\n",
    "            display(df)\n",
    "display_all(train_joined.head())"
   ]
  },
  {
   "cell_type": "code",
   "execution_count": 20,
   "metadata": {},
   "outputs": [
    {
     "data": {
      "text/plain": [
       "['installer',\n",
       " 'subvillage',\n",
       " 'wpt_name',\n",
       " 'funder',\n",
       " 'id',\n",
       " 'scheme_management',\n",
       " 'scheme_name',\n",
       " 'recorded_by']"
      ]
     },
     "execution_count": 20,
     "metadata": {},
     "output_type": "execute_result"
    }
   ],
   "source": [
    "#check all dropped columns\n",
    "dropped_column = list(set(train_features.columns) - set(train_joined.columns))\n",
    "dropped_column"
   ]
  },
  {
   "cell_type": "markdown",
   "metadata": {},
   "source": [
    "##### TEST DATA"
   ]
  },
  {
   "cell_type": "code",
   "execution_count": 21,
   "metadata": {},
   "outputs": [
    {
     "data": {
      "text/html": [
       "<div>\n",
       "<style scoped>\n",
       "    .dataframe tbody tr th:only-of-type {\n",
       "        vertical-align: middle;\n",
       "    }\n",
       "\n",
       "    .dataframe tbody tr th {\n",
       "        vertical-align: top;\n",
       "    }\n",
       "\n",
       "    .dataframe thead th {\n",
       "        text-align: right;\n",
       "    }\n",
       "</style>\n",
       "<table border=\"1\" class=\"dataframe\">\n",
       "  <thead>\n",
       "    <tr style=\"text-align: right;\">\n",
       "      <th></th>\n",
       "      <th>Row With Missing Value</th>\n",
       "      <th>Percentage (%)</th>\n",
       "    </tr>\n",
       "  </thead>\n",
       "  <tbody>\n",
       "    <tr>\n",
       "      <th>scheme_name</th>\n",
       "      <td>7092</td>\n",
       "      <td>47.76</td>\n",
       "    </tr>\n",
       "    <tr>\n",
       "      <th>scheme_management</th>\n",
       "      <td>969</td>\n",
       "      <td>6.53</td>\n",
       "    </tr>\n",
       "    <tr>\n",
       "      <th>installer</th>\n",
       "      <td>877</td>\n",
       "      <td>5.91</td>\n",
       "    </tr>\n",
       "    <tr>\n",
       "      <th>funder</th>\n",
       "      <td>869</td>\n",
       "      <td>5.85</td>\n",
       "    </tr>\n",
       "    <tr>\n",
       "      <th>public_meeting</th>\n",
       "      <td>821</td>\n",
       "      <td>5.53</td>\n",
       "    </tr>\n",
       "    <tr>\n",
       "      <th>permit</th>\n",
       "      <td>737</td>\n",
       "      <td>4.96</td>\n",
       "    </tr>\n",
       "    <tr>\n",
       "      <th>subvillage</th>\n",
       "      <td>99</td>\n",
       "      <td>0.67</td>\n",
       "    </tr>\n",
       "  </tbody>\n",
       "</table>\n",
       "</div>"
      ],
      "text/plain": [
       "                   Row With Missing Value  Percentage (%)\n",
       "scheme_name                          7092           47.76\n",
       "scheme_management                     969            6.53\n",
       "installer                             877            5.91\n",
       "funder                                869            5.85\n",
       "public_meeting                        821            5.53\n",
       "permit                                737            4.96\n",
       "subvillage                             99            0.67"
      ]
     },
     "execution_count": 21,
     "metadata": {},
     "output_type": "execute_result"
    }
   ],
   "source": [
    "#check missing values\n",
    "\n",
    "get_missing_value(test)"
   ]
  },
  {
   "cell_type": "code",
   "execution_count": 22,
   "metadata": {},
   "outputs": [],
   "source": [
    "#dropping test columns with dropped_column\n",
    "test = test.drop(columns = dropped_column, \n",
    "                 axis = 1)"
   ]
  },
  {
   "cell_type": "code",
   "execution_count": 23,
   "metadata": {},
   "outputs": [
    {
     "name": "stdout",
     "output_type": "stream",
     "text": [
      "public_meeting\n",
      "True     12738\n",
      "False     1291\n",
      "Name: public_meeting, dtype: int64\n",
      "permit\n",
      "True     9754\n",
      "False    4359\n",
      "Name: permit, dtype: int64\n"
     ]
    }
   ],
   "source": [
    "#checking value_counts on columns with missing\n",
    "miss_test = get_missing_value(test)\n",
    "\n",
    "for i in miss_test[miss_test[\"Row With Missing Value\"] > 0].index:\n",
    "    print(i)\n",
    "    print(test[i].value_counts())"
   ]
  },
  {
   "cell_type": "code",
   "execution_count": 24,
   "metadata": {},
   "outputs": [],
   "source": [
    "#filling missing value with the data that appears most often\n",
    "test[\"public_meeting\"] = test[\"public_meeting\"].fillna(True)\n",
    "test[\"permit\"] = test[\"permit\"].fillna(True)"
   ]
  },
  {
   "cell_type": "code",
   "execution_count": 25,
   "metadata": {},
   "outputs": [
    {
     "data": {
      "text/plain": [
       "False"
      ]
     },
     "execution_count": 25,
     "metadata": {},
     "output_type": "execute_result"
    }
   ],
   "source": [
    "#check missing value\n",
    "test.isna().sum().any()"
   ]
  },
  {
   "cell_type": "code",
   "execution_count": 26,
   "metadata": {},
   "outputs": [],
   "source": [
    "#engineering construction year column\n",
    "test['construction_year'] = test.apply(lambda row: construction_wrangler(row), axis=1)"
   ]
  },
  {
   "cell_type": "code",
   "execution_count": 27,
   "metadata": {},
   "outputs": [
    {
     "data": {
      "text/html": [
       "<div>\n",
       "<style scoped>\n",
       "    .dataframe tbody tr th:only-of-type {\n",
       "        vertical-align: middle;\n",
       "    }\n",
       "\n",
       "    .dataframe tbody tr th {\n",
       "        vertical-align: top;\n",
       "    }\n",
       "\n",
       "    .dataframe thead th {\n",
       "        text-align: right;\n",
       "    }\n",
       "</style>\n",
       "<table border=\"1\" class=\"dataframe\">\n",
       "  <thead>\n",
       "    <tr style=\"text-align: right;\">\n",
       "      <th></th>\n",
       "      <th>amount_tsh</th>\n",
       "      <th>date_recorded</th>\n",
       "      <th>gps_height</th>\n",
       "      <th>longitude</th>\n",
       "      <th>latitude</th>\n",
       "      <th>num_private</th>\n",
       "      <th>basin</th>\n",
       "      <th>region</th>\n",
       "      <th>region_code</th>\n",
       "      <th>district_code</th>\n",
       "      <th>lga</th>\n",
       "      <th>ward</th>\n",
       "      <th>population</th>\n",
       "      <th>public_meeting</th>\n",
       "      <th>permit</th>\n",
       "      <th>construction_year</th>\n",
       "      <th>extraction_type</th>\n",
       "      <th>extraction_type_group</th>\n",
       "      <th>extraction_type_class</th>\n",
       "      <th>management</th>\n",
       "      <th>management_group</th>\n",
       "      <th>payment</th>\n",
       "      <th>payment_type</th>\n",
       "      <th>water_quality</th>\n",
       "      <th>quality_group</th>\n",
       "      <th>quantity</th>\n",
       "      <th>quantity_group</th>\n",
       "      <th>source</th>\n",
       "      <th>source_type</th>\n",
       "      <th>source_class</th>\n",
       "      <th>waterpoint_type</th>\n",
       "      <th>waterpoint_type_group</th>\n",
       "    </tr>\n",
       "  </thead>\n",
       "  <tbody>\n",
       "    <tr>\n",
       "      <th>0</th>\n",
       "      <td>0.0</td>\n",
       "      <td>2013-02-04</td>\n",
       "      <td>1996</td>\n",
       "      <td>35.290799</td>\n",
       "      <td>-4.059696</td>\n",
       "      <td>0</td>\n",
       "      <td>Internal</td>\n",
       "      <td>Manyara</td>\n",
       "      <td>21</td>\n",
       "      <td>3</td>\n",
       "      <td>Mbulu</td>\n",
       "      <td>Bashay</td>\n",
       "      <td>321</td>\n",
       "      <td>True</td>\n",
       "      <td>True</td>\n",
       "      <td>2010s</td>\n",
       "      <td>other</td>\n",
       "      <td>other</td>\n",
       "      <td>other</td>\n",
       "      <td>parastatal</td>\n",
       "      <td>parastatal</td>\n",
       "      <td>never pay</td>\n",
       "      <td>never pay</td>\n",
       "      <td>soft</td>\n",
       "      <td>good</td>\n",
       "      <td>seasonal</td>\n",
       "      <td>seasonal</td>\n",
       "      <td>rainwater harvesting</td>\n",
       "      <td>rainwater harvesting</td>\n",
       "      <td>surface</td>\n",
       "      <td>other</td>\n",
       "      <td>other</td>\n",
       "    </tr>\n",
       "    <tr>\n",
       "      <th>1</th>\n",
       "      <td>0.0</td>\n",
       "      <td>2013-02-04</td>\n",
       "      <td>1569</td>\n",
       "      <td>36.656709</td>\n",
       "      <td>-3.309214</td>\n",
       "      <td>0</td>\n",
       "      <td>Pangani</td>\n",
       "      <td>Arusha</td>\n",
       "      <td>2</td>\n",
       "      <td>2</td>\n",
       "      <td>Arusha Rural</td>\n",
       "      <td>Kimnyaki</td>\n",
       "      <td>300</td>\n",
       "      <td>True</td>\n",
       "      <td>True</td>\n",
       "      <td>2000s</td>\n",
       "      <td>gravity</td>\n",
       "      <td>gravity</td>\n",
       "      <td>gravity</td>\n",
       "      <td>vwc</td>\n",
       "      <td>user-group</td>\n",
       "      <td>never pay</td>\n",
       "      <td>never pay</td>\n",
       "      <td>soft</td>\n",
       "      <td>good</td>\n",
       "      <td>insufficient</td>\n",
       "      <td>insufficient</td>\n",
       "      <td>spring</td>\n",
       "      <td>spring</td>\n",
       "      <td>groundwater</td>\n",
       "      <td>communal standpipe</td>\n",
       "      <td>communal standpipe</td>\n",
       "    </tr>\n",
       "    <tr>\n",
       "      <th>2</th>\n",
       "      <td>0.0</td>\n",
       "      <td>2013-02-01</td>\n",
       "      <td>1567</td>\n",
       "      <td>34.767863</td>\n",
       "      <td>-5.004344</td>\n",
       "      <td>0</td>\n",
       "      <td>Internal</td>\n",
       "      <td>Singida</td>\n",
       "      <td>13</td>\n",
       "      <td>2</td>\n",
       "      <td>Singida Rural</td>\n",
       "      <td>Puma</td>\n",
       "      <td>500</td>\n",
       "      <td>True</td>\n",
       "      <td>True</td>\n",
       "      <td>2010s</td>\n",
       "      <td>other</td>\n",
       "      <td>other</td>\n",
       "      <td>other</td>\n",
       "      <td>vwc</td>\n",
       "      <td>user-group</td>\n",
       "      <td>never pay</td>\n",
       "      <td>never pay</td>\n",
       "      <td>soft</td>\n",
       "      <td>good</td>\n",
       "      <td>insufficient</td>\n",
       "      <td>insufficient</td>\n",
       "      <td>rainwater harvesting</td>\n",
       "      <td>rainwater harvesting</td>\n",
       "      <td>surface</td>\n",
       "      <td>other</td>\n",
       "      <td>other</td>\n",
       "    </tr>\n",
       "    <tr>\n",
       "      <th>3</th>\n",
       "      <td>0.0</td>\n",
       "      <td>2013-01-22</td>\n",
       "      <td>267</td>\n",
       "      <td>38.058046</td>\n",
       "      <td>-9.418672</td>\n",
       "      <td>0</td>\n",
       "      <td>Ruvuma / Southern Coast</td>\n",
       "      <td>Lindi</td>\n",
       "      <td>80</td>\n",
       "      <td>43</td>\n",
       "      <td>Liwale</td>\n",
       "      <td>Mkutano</td>\n",
       "      <td>250</td>\n",
       "      <td>True</td>\n",
       "      <td>True</td>\n",
       "      <td>1980s</td>\n",
       "      <td>other</td>\n",
       "      <td>other</td>\n",
       "      <td>other</td>\n",
       "      <td>vwc</td>\n",
       "      <td>user-group</td>\n",
       "      <td>unknown</td>\n",
       "      <td>unknown</td>\n",
       "      <td>soft</td>\n",
       "      <td>good</td>\n",
       "      <td>dry</td>\n",
       "      <td>dry</td>\n",
       "      <td>shallow well</td>\n",
       "      <td>shallow well</td>\n",
       "      <td>groundwater</td>\n",
       "      <td>other</td>\n",
       "      <td>other</td>\n",
       "    </tr>\n",
       "    <tr>\n",
       "      <th>4</th>\n",
       "      <td>500.0</td>\n",
       "      <td>2013-03-27</td>\n",
       "      <td>1260</td>\n",
       "      <td>35.006123</td>\n",
       "      <td>-10.950412</td>\n",
       "      <td>0</td>\n",
       "      <td>Ruvuma / Southern Coast</td>\n",
       "      <td>Ruvuma</td>\n",
       "      <td>10</td>\n",
       "      <td>3</td>\n",
       "      <td>Mbinga</td>\n",
       "      <td>Mbinga Urban</td>\n",
       "      <td>60</td>\n",
       "      <td>True</td>\n",
       "      <td>True</td>\n",
       "      <td>2000s</td>\n",
       "      <td>gravity</td>\n",
       "      <td>gravity</td>\n",
       "      <td>gravity</td>\n",
       "      <td>water board</td>\n",
       "      <td>user-group</td>\n",
       "      <td>pay monthly</td>\n",
       "      <td>monthly</td>\n",
       "      <td>soft</td>\n",
       "      <td>good</td>\n",
       "      <td>enough</td>\n",
       "      <td>enough</td>\n",
       "      <td>spring</td>\n",
       "      <td>spring</td>\n",
       "      <td>groundwater</td>\n",
       "      <td>communal standpipe</td>\n",
       "      <td>communal standpipe</td>\n",
       "    </tr>\n",
       "  </tbody>\n",
       "</table>\n",
       "</div>"
      ],
      "text/plain": [
       "   amount_tsh date_recorded  gps_height  longitude   latitude  num_private  \\\n",
       "0         0.0    2013-02-04        1996  35.290799  -4.059696            0   \n",
       "1         0.0    2013-02-04        1569  36.656709  -3.309214            0   \n",
       "2         0.0    2013-02-01        1567  34.767863  -5.004344            0   \n",
       "3         0.0    2013-01-22         267  38.058046  -9.418672            0   \n",
       "4       500.0    2013-03-27        1260  35.006123 -10.950412            0   \n",
       "\n",
       "                     basin   region  region_code  district_code  \\\n",
       "0                 Internal  Manyara           21              3   \n",
       "1                  Pangani   Arusha            2              2   \n",
       "2                 Internal  Singida           13              2   \n",
       "3  Ruvuma / Southern Coast    Lindi           80             43   \n",
       "4  Ruvuma / Southern Coast   Ruvuma           10              3   \n",
       "\n",
       "             lga          ward  population  public_meeting  permit  \\\n",
       "0          Mbulu        Bashay         321            True    True   \n",
       "1   Arusha Rural      Kimnyaki         300            True    True   \n",
       "2  Singida Rural          Puma         500            True    True   \n",
       "3         Liwale       Mkutano         250            True    True   \n",
       "4         Mbinga  Mbinga Urban          60            True    True   \n",
       "\n",
       "  construction_year extraction_type extraction_type_group  \\\n",
       "0             2010s           other                 other   \n",
       "1             2000s         gravity               gravity   \n",
       "2             2010s           other                 other   \n",
       "3             1980s           other                 other   \n",
       "4             2000s         gravity               gravity   \n",
       "\n",
       "  extraction_type_class   management management_group      payment  \\\n",
       "0                 other   parastatal       parastatal    never pay   \n",
       "1               gravity          vwc       user-group    never pay   \n",
       "2                 other          vwc       user-group    never pay   \n",
       "3                 other          vwc       user-group      unknown   \n",
       "4               gravity  water board       user-group  pay monthly   \n",
       "\n",
       "  payment_type water_quality quality_group      quantity quantity_group  \\\n",
       "0    never pay          soft          good      seasonal       seasonal   \n",
       "1    never pay          soft          good  insufficient   insufficient   \n",
       "2    never pay          soft          good  insufficient   insufficient   \n",
       "3      unknown          soft          good           dry            dry   \n",
       "4      monthly          soft          good        enough         enough   \n",
       "\n",
       "                 source           source_type source_class  \\\n",
       "0  rainwater harvesting  rainwater harvesting      surface   \n",
       "1                spring                spring  groundwater   \n",
       "2  rainwater harvesting  rainwater harvesting      surface   \n",
       "3          shallow well          shallow well  groundwater   \n",
       "4                spring                spring  groundwater   \n",
       "\n",
       "      waterpoint_type waterpoint_type_group  \n",
       "0               other                 other  \n",
       "1  communal standpipe    communal standpipe  \n",
       "2               other                 other  \n",
       "3               other                 other  \n",
       "4  communal standpipe    communal standpipe  "
      ]
     },
     "metadata": {},
     "output_type": "display_data"
    }
   ],
   "source": [
    "#cleaned test data\n",
    "display_all(test.head())"
   ]
  },
  {
   "cell_type": "markdown",
   "metadata": {},
   "source": [
    "#### EXPLORATORY DATA ANALYSIS"
   ]
  },
  {
   "cell_type": "code",
   "execution_count": 86,
   "metadata": {},
   "outputs": [
    {
     "name": "stdout",
     "output_type": "stream",
     "text": [
      "summary\n",
      "------------------------------\n",
      "          amount_tsh    gps_height     longitude      latitude   num_private  \\\n",
      "count   59400.000000  59400.000000  59400.000000  5.940000e+04  59400.000000   \n",
      "mean      317.650385    668.297239     34.077427 -5.706033e+00      0.474141   \n",
      "std      2997.574558    693.116350      6.567432  2.946019e+00     12.236230   \n",
      "min         0.000000    -90.000000      0.000000 -1.164944e+01      0.000000   \n",
      "25%         0.000000      0.000000     33.090347 -8.540621e+00      0.000000   \n",
      "50%         0.000000    369.000000     34.908743 -5.021597e+00      0.000000   \n",
      "75%        20.000000   1319.250000     37.178387 -3.326156e+00      0.000000   \n",
      "max    350000.000000   2770.000000     40.345193 -2.000000e-08   1776.000000   \n",
      "\n",
      "        region_code  district_code    population   year_record  month_record  \n",
      "count  59400.000000   59400.000000  59400.000000  59400.000000  59400.000000  \n",
      "mean      15.297003       5.629747    179.909983   2011.921667      4.375640  \n",
      "std       17.587406       9.633649    471.482176      0.958758      3.029247  \n",
      "min        1.000000       0.000000      0.000000   2002.000000      1.000000  \n",
      "25%        5.000000       2.000000      0.000000   2011.000000      2.000000  \n",
      "50%       12.000000       3.000000     25.000000   2012.000000      3.000000  \n",
      "75%       17.000000       5.000000    215.000000   2013.000000      7.000000  \n",
      "max       99.000000      80.000000  30500.000000   2013.000000     12.000000  \n",
      "------------------------------\n",
      "columns types\n",
      "amount_tsh               float64\n",
      "gps_height                 int64\n",
      "longitude                float64\n",
      "latitude                 float64\n",
      "num_private                int64\n",
      "basin                     object\n",
      "region                    object\n",
      "region_code                int64\n",
      "district_code              int64\n",
      "lga                       object\n",
      "ward                      object\n",
      "population                 int64\n",
      "public_meeting              bool\n",
      "permit                      bool\n",
      "construction_year         object\n",
      "extraction_type           object\n",
      "extraction_type_group     object\n",
      "extraction_type_class     object\n",
      "management                object\n",
      "management_group          object\n",
      "payment                   object\n",
      "payment_type              object\n",
      "water_quality             object\n",
      "quality_group             object\n",
      "quantity                  object\n",
      "quantity_group            object\n",
      "source                    object\n",
      "source_type               object\n",
      "source_class              object\n",
      "waterpoint_type           object\n",
      "waterpoint_type_group     object\n",
      "status_group              object\n",
      "year_record                int64\n",
      "month_record               int64\n",
      "dtype: object\n",
      "------------------------------\n",
      "shape\n",
      "(59400, 34)\n"
     ]
    }
   ],
   "source": [
    "def summary(df):\n",
    "    print(\"summary\")\n",
    "    print(\"------------------------------\")\n",
    "    print(df.describe())\n",
    "    print(\"------------------------------\")\n",
    "    print(\"columns types\")\n",
    "    print(df.dtypes)\n",
    "    print(\"------------------------------\")\n",
    "    print(\"shape\")\n",
    "    print(df.shape)\n",
    "    \n",
    "summary(train_joined)"
   ]
  },
  {
   "cell_type": "code",
   "execution_count": 28,
   "metadata": {},
   "outputs": [
    {
     "data": {
      "text/plain": [
       "[Text(0, 0.5, 'Count'),\n",
       " Text(0.5, 0, 'status_group'),\n",
       " Text(0.5, 1.0, 'Countplot of Status Group')]"
      ]
     },
     "execution_count": 28,
     "metadata": {},
     "output_type": "execute_result"
    },
    {
     "data": {
      "image/png": "[encoded data removed]",
      "text/plain": [
       "<Figure size 432x288 with 1 Axes>"
      ]
     },
     "metadata": {},
     "output_type": "display_data"
    }
   ],
   "source": [
    "sns.set(style=\"ticks\", color_codes=True)\n",
    "ax = sns.countplot(train_joined[\"status_group\"])\n",
    "ax.set(ylabel='Count', \n",
    "       xlabel='status_group', \n",
    "       title='Countplot of Status Group')"
   ]
  },
  {
   "cell_type": "code",
   "execution_count": 84,
   "metadata": {},
   "outputs": [
    {
     "data": {
      "text/plain": [
       "[Text(0, 0.5, 'Count'),\n",
       " Text(0.5, 0, 'construction_year'),\n",
       " Text(0.5, 1.0, 'Countplot of construction_year')]"
      ]
     },
     "execution_count": 84,
     "metadata": {},
     "output_type": "execute_result"
    },
    {
     "data": {
      "image/png": "[encoded data removed]",
      "text/plain": [
       "<Figure size 432x288 with 1 Axes>"
      ]
     },
     "metadata": {},
     "output_type": "display_data"
    }
   ],
   "source": [
    "sns.set(style=\"ticks\", color_codes=True)\n",
    "ax = sns.countplot(train_joined[\"construction_year\"])\n",
    "ax.set(ylabel='Count', \n",
    "       xlabel='construction_year', \n",
    "       title='Countplot of construction_year')"
   ]
  },
  {
   "cell_type": "code",
   "execution_count": 85,
   "metadata": {},
   "outputs": [
    {
     "data": {
      "text/plain": [
       "[Text(0, 0.5, 'Count'),\n",
       " Text(0.5, 0, 'construction_year'),\n",
       " Text(0.5, 1.0, 'Countplot of construction_year')]"
      ]
     },
     "execution_count": 85,
     "metadata": {},
     "output_type": "execute_result"
    },
    {
     "data": {
      "image/png": "[encoded data removed]",
      "text/plain": [
       "<Figure size 432x288 with 1 Axes>"
      ]
     },
     "metadata": {},
     "output_type": "display_data"
    }
   ],
   "source": [
    "sns.set(style=\"ticks\", color_codes=True)\n",
    "ax = sns.countplot(train_joined[\"construction_year\"],\n",
    "                  hue = train_joined[\"status_group\"])\n",
    "ax.set(ylabel='Count', \n",
    "       xlabel='construction_year', \n",
    "       title='Countplot of construction_year')"
   ]
  },
  {
   "cell_type": "code",
   "execution_count": 82,
   "metadata": {},
   "outputs": [
    {
     "data": {
      "text/plain": [
       "[Text(0.5, 1.0, 'Boxplot quantity over gps_height')]"
      ]
     },
     "execution_count": 82,
     "metadata": {},
     "output_type": "execute_result"
    },
    {
     "data": {
      "image/png": "[encoded data removed]",
      "text/plain": [
       "<Figure size 432x288 with 1 Axes>"
      ]
     },
     "metadata": {},
     "output_type": "display_data"
    }
   ],
   "source": [
    "ax = sns.boxplot(x = \"quantity\", \n",
    "            y = \"gps_height\", \n",
    "            hue = \"status_group\",\n",
    "            data = train_joined)\n",
    "ax.set(title='Boxplot quantity over gps_height')"
   ]
  },
  {
   "cell_type": "code",
   "execution_count": 83,
   "metadata": {},
   "outputs": [
    {
     "data": {
      "text/plain": [
       "[Text(0.5, 1.0, 'Stripplot quality_group over gps_height')]"
      ]
     },
     "execution_count": 83,
     "metadata": {},
     "output_type": "execute_result"
    },
    {
     "data": {
      "image/png": "[encoded data removed]",
      "text/plain": [
       "<Figure size 432x288 with 1 Axes>"
      ]
     },
     "metadata": {},
     "output_type": "display_data"
    }
   ],
   "source": [
    "ax = sns.stripplot(x = \"quality_group\", \n",
    "            y = \"gps_height\", \n",
    "            hue = \"status_group\",\n",
    "            data = train_joined)\n",
    "ax.set(title='Stripplot quality_group over gps_height')"
   ]
  },
  {
   "cell_type": "markdown",
   "metadata": {},
   "source": [
    "#### FEATURE ENGINEERING"
   ]
  },
  {
   "cell_type": "code",
   "execution_count": 29,
   "metadata": {},
   "outputs": [],
   "source": [
    "#change date_recorded column type to datetime\n",
    "train_joined[\"date_recorded\"] = pd.to_datetime(train_joined[\"date_recorded\"])\n",
    "test[\"date_recorded\"] = pd.to_datetime(test[\"date_recorded\"])"
   ]
  },
  {
   "cell_type": "code",
   "execution_count": 30,
   "metadata": {},
   "outputs": [],
   "source": [
    "#add new column from date_recorded column\n",
    "def new_col_date(df):\n",
    "    df[\"year_record\"] = df[\"date_recorded\"].dt.year\n",
    "    df[\"month_record\"] = df[\"date_recorded\"].dt.month\n",
    "\n",
    "#apply\n",
    "new_col_date(train_joined)\n",
    "new_col_date(test)\n",
    "    \n",
    "#delete column\n",
    "train_joined = train_joined.drop(columns = [\"date_recorded\"],\n",
    "                                axis = 1)\n",
    "test = test.drop(columns = [\"date_recorded\"],\n",
    "                                axis = 1)"
   ]
  },
  {
   "cell_type": "markdown",
   "metadata": {},
   "source": [
    "#### MODELLING"
   ]
  },
  {
   "cell_type": "markdown",
   "metadata": {},
   "source": [
    "##### SPLIT TRAIN DATA"
   ]
  },
  {
   "cell_type": "code",
   "execution_count": 31,
   "metadata": {},
   "outputs": [],
   "source": [
    "X = train_joined.drop(columns = [\"status_group\"],\n",
    "                     axis = 1)\n",
    "y = train_joined[\"status_group\"]"
   ]
  },
  {
   "cell_type": "code",
   "execution_count": 32,
   "metadata": {},
   "outputs": [
    {
     "data": {
      "text/plain": [
       "((53460, 33), (5940, 33), (53460,), (5940,))"
      ]
     },
     "execution_count": 32,
     "metadata": {},
     "output_type": "execute_result"
    }
   ],
   "source": [
    "X_train, X_val, y_train, y_val = train_test_split(X,\n",
    "                                                 y,\n",
    "                                                 test_size = 0.1,\n",
    "                                                 random_state = 42)\n",
    "\n",
    "X_train.shape, X_val.shape, y_train.shape, y_val.shape"
   ]
  },
  {
   "cell_type": "markdown",
   "metadata": {},
   "source": [
    "##### PREPROCESSING"
   ]
  },
  {
   "cell_type": "code",
   "execution_count": 33,
   "metadata": {},
   "outputs": [],
   "source": [
    "#for categorical columns\n",
    "cat_pipeline = Pipeline([\n",
    "    ('One Hot Encoder', OneHotEncoder(handle_unknown='ignore'))\n",
    "])"
   ]
  },
  {
   "cell_type": "code",
   "execution_count": 34,
   "metadata": {},
   "outputs": [],
   "source": [
    "#for numerical columns\n",
    "num_pipelines = Pipeline([\n",
    "    ('Standard Scaler', StandardScaler())\n",
    "])"
   ]
  },
  {
   "cell_type": "code",
   "execution_count": 35,
   "metadata": {},
   "outputs": [
    {
     "name": "stdout",
     "output_type": "stream",
     "text": [
      "object features :\n",
      "Index(['basin', 'region', 'lga', 'ward', 'construction_year',\n",
      "       'extraction_type', 'extraction_type_group', 'extraction_type_class',\n",
      "       'management', 'management_group', 'payment', 'payment_type',\n",
      "       'water_quality', 'quality_group', 'quantity', 'quantity_group',\n",
      "       'source', 'source_type', 'source_class', 'waterpoint_type',\n",
      "       'waterpoint_type_group'],\n",
      "      dtype='object')\n",
      "numerical features :\n",
      "Index(['amount_tsh', 'gps_height', 'longitude', 'latitude', 'num_private',\n",
      "       'region_code', 'district_code', 'population', 'public_meeting',\n",
      "       'permit', 'year_record', 'month_record'],\n",
      "      dtype='object')\n"
     ]
    }
   ],
   "source": [
    "#combine\n",
    "\n",
    "#define num_features and obj_features\n",
    "obj_features = X[X.dtypes[X.dtypes == \"object\"].index].columns\n",
    "num_features = X[X.dtypes[X.dtypes != \"object\"].index].columns\n",
    "print(\"object features :\")\n",
    "print(obj_features)\n",
    "print(\"numerical features :\")\n",
    "print(num_features)\n",
    "\n",
    "#preprocessing\n",
    "preprocessor = ColumnTransformer(\n",
    "    transformers = [\n",
    "        ('Numerical', num_pipelines, num_features),\n",
    "        ('Categorical', cat_pipeline, obj_features)  \n",
    "    ],\n",
    "    remainder = \"drop\"\n",
    ")"
   ]
  },
  {
   "cell_type": "code",
   "execution_count": 38,
   "metadata": {
    "scrolled": false
   },
   "outputs": [
    {
     "name": "stdout",
     "output_type": "stream",
     "text": [
      "X_train_prep.shape (53460, 2389)\n",
      "X_eval_prep.shape (5940, 2389)\n"
     ]
    }
   ],
   "source": [
    "#fitting preprocessing pipeline\n",
    "X_train_prep = preprocessor.fit_transform(X_train)\n",
    "X_val_prep =  preprocessor.transform(X_val)\n",
    "\n",
    "#checking shape\n",
    "print ('X_train_prep.shape' , X_train_prep.shape)\n",
    "print ('X_eval_prep.shape' , X_val_prep.shape)"
   ]
  },
  {
   "cell_type": "markdown",
   "metadata": {},
   "source": [
    "##### MODEL BUILDING"
   ]
  },
  {
   "cell_type": "code",
   "execution_count": 57,
   "metadata": {},
   "outputs": [
    {
     "data": {
      "text/plain": [
       "KNeighborsClassifier()"
      ]
     },
     "execution_count": 57,
     "metadata": {},
     "output_type": "execute_result"
    }
   ],
   "source": [
    "model = KNeighborsClassifier()\n",
    "model.fit(X_train_prep, y_train)"
   ]
  },
  {
   "cell_type": "code",
   "execution_count": 58,
   "metadata": {},
   "outputs": [
    {
     "data": {
      "text/plain": [
       "array(['non functional', 'functional', 'functional', ..., 'functional',\n",
       "       'non functional', 'functional'], dtype=object)"
      ]
     },
     "execution_count": 58,
     "metadata": {},
     "output_type": "execute_result"
    }
   ],
   "source": [
    "predict_val = model.predict_val(X_val_prep)\n",
    "predict_val"
   ]
  },
  {
   "cell_type": "code",
   "execution_count": 59,
   "metadata": {},
   "outputs": [
    {
     "data": {
      "text/plain": [
       "0.7860269360269361"
      ]
     },
     "execution_count": 59,
     "metadata": {},
     "output_type": "execute_result"
    }
   ],
   "source": [
    "#model accuracy\n",
    "accuracy_score(y_val, predict_val)"
   ]
  },
  {
   "cell_type": "markdown",
   "metadata": {},
   "source": [
    "##### MODEL OPTIMIZING"
   ]
  },
  {
   "cell_type": "markdown",
   "metadata": {},
   "source": [
    "KNeighborsClassifier"
   ]
  },
  {
   "cell_type": "code",
   "execution_count": 64,
   "metadata": {
    "scrolled": false
   },
   "outputs": [
    {
     "name": "stdout",
     "output_type": "stream",
     "text": [
      "Fitting 5 folds for each of 10 candidates, totalling 50 fits\n",
      "[CV] weights=uniform, p=2, n_neighbors=17, leaf_size=33, algorithm=ball_tree \n"
     ]
    },
    {
     "name": "stderr",
     "output_type": "stream",
     "text": [
      "[Parallel(n_jobs=1)]: Using backend SequentialBackend with 1 concurrent workers.\n"
     ]
    },
    {
     "name": "stdout",
     "output_type": "stream",
     "text": [
      "[CV]  weights=uniform, p=2, n_neighbors=17, leaf_size=33, algorithm=ball_tree, score=0.765, total=  32.6s\n",
      "[CV] weights=uniform, p=2, n_neighbors=17, leaf_size=33, algorithm=ball_tree \n"
     ]
    },
    {
     "name": "stderr",
     "output_type": "stream",
     "text": [
      "[Parallel(n_jobs=1)]: Done   1 out of   1 | elapsed:   32.5s remaining:    0.0s\n"
     ]
    },
    {
     "name": "stdout",
     "output_type": "stream",
     "text": [
      "[CV]  weights=uniform, p=2, n_neighbors=17, leaf_size=33, algorithm=ball_tree, score=0.764, total=  33.5s\n",
      "[CV] weights=uniform, p=2, n_neighbors=17, leaf_size=33, algorithm=ball_tree \n"
     ]
    },
    {
     "name": "stderr",
     "output_type": "stream",
     "text": [
      "[Parallel(n_jobs=1)]: Done   2 out of   2 | elapsed:  1.1min remaining:    0.0s\n"
     ]
    },
    {
     "name": "stdout",
     "output_type": "stream",
     "text": [
      "[CV]  weights=uniform, p=2, n_neighbors=17, leaf_size=33, algorithm=ball_tree, score=0.769, total=  31.1s\n",
      "[CV] weights=uniform, p=2, n_neighbors=17, leaf_size=33, algorithm=ball_tree \n"
     ]
    },
    {
     "name": "stderr",
     "output_type": "stream",
     "text": [
      "[Parallel(n_jobs=1)]: Done   3 out of   3 | elapsed:  1.6min remaining:    0.0s\n"
     ]
    },
    {
     "name": "stdout",
     "output_type": "stream",
     "text": [
      "[CV]  weights=uniform, p=2, n_neighbors=17, leaf_size=33, algorithm=ball_tree, score=0.771, total=  31.0s\n",
      "[CV] weights=uniform, p=2, n_neighbors=17, leaf_size=33, algorithm=ball_tree \n"
     ]
    },
    {
     "name": "stderr",
     "output_type": "stream",
     "text": [
      "[Parallel(n_jobs=1)]: Done   4 out of   4 | elapsed:  2.1min remaining:    0.0s\n"
     ]
    },
    {
     "name": "stdout",
     "output_type": "stream",
     "text": [
      "[CV]  weights=uniform, p=2, n_neighbors=17, leaf_size=33, algorithm=ball_tree, score=0.763, total=  31.6s\n",
      "[CV] weights=uniform, p=1, n_neighbors=6, leaf_size=32, algorithm=brute \n"
     ]
    },
    {
     "name": "stderr",
     "output_type": "stream",
     "text": [
      "[Parallel(n_jobs=1)]: Done   5 out of   5 | elapsed:  2.7min remaining:    0.0s\n"
     ]
    },
    {
     "name": "stdout",
     "output_type": "stream",
     "text": [
      "[CV]  weights=uniform, p=1, n_neighbors=6, leaf_size=32, algorithm=brute, score=0.775, total=  17.7s\n",
      "[CV] weights=uniform, p=1, n_neighbors=6, leaf_size=32, algorithm=brute \n"
     ]
    },
    {
     "name": "stderr",
     "output_type": "stream",
     "text": [
      "[Parallel(n_jobs=1)]: Done   6 out of   6 | elapsed:  3.0min remaining:    0.0s\n"
     ]
    },
    {
     "name": "stdout",
     "output_type": "stream",
     "text": [
      "[CV]  weights=uniform, p=1, n_neighbors=6, leaf_size=32, algorithm=brute, score=0.782, total=  17.7s\n",
      "[CV] weights=uniform, p=1, n_neighbors=6, leaf_size=32, algorithm=brute \n"
     ]
    },
    {
     "name": "stderr",
     "output_type": "stream",
     "text": [
      "[Parallel(n_jobs=1)]: Done   7 out of   7 | elapsed:  3.2min remaining:    0.0s\n"
     ]
    },
    {
     "name": "stdout",
     "output_type": "stream",
     "text": [
      "[CV]  weights=uniform, p=1, n_neighbors=6, leaf_size=32, algorithm=brute, score=0.783, total=  18.1s\n",
      "[CV] weights=uniform, p=1, n_neighbors=6, leaf_size=32, algorithm=brute \n"
     ]
    },
    {
     "name": "stderr",
     "output_type": "stream",
     "text": [
      "[Parallel(n_jobs=1)]: Done   8 out of   8 | elapsed:  3.6min remaining:    0.0s\n"
     ]
    },
    {
     "name": "stdout",
     "output_type": "stream",
     "text": [
      "[CV]  weights=uniform, p=1, n_neighbors=6, leaf_size=32, algorithm=brute, score=0.786, total=  18.8s\n",
      "[CV] weights=uniform, p=1, n_neighbors=6, leaf_size=32, algorithm=brute \n"
     ]
    },
    {
     "name": "stderr",
     "output_type": "stream",
     "text": [
      "[Parallel(n_jobs=1)]: Done   9 out of   9 | elapsed:  3.9min remaining:    0.0s\n"
     ]
    },
    {
     "name": "stdout",
     "output_type": "stream",
     "text": [
      "[CV]  weights=uniform, p=1, n_neighbors=6, leaf_size=32, algorithm=brute, score=0.784, total=  18.1s\n",
      "[CV] weights=uniform, p=1, n_neighbors=7, leaf_size=24, algorithm=ball_tree \n",
      "[CV]  weights=uniform, p=1, n_neighbors=7, leaf_size=24, algorithm=ball_tree, score=0.776, total=  17.8s\n",
      "[CV] weights=uniform, p=1, n_neighbors=7, leaf_size=24, algorithm=ball_tree \n",
      "[CV]  weights=uniform, p=1, n_neighbors=7, leaf_size=24, algorithm=ball_tree, score=0.781, total=  18.0s\n",
      "[CV] weights=uniform, p=1, n_neighbors=7, leaf_size=24, algorithm=ball_tree \n",
      "[CV]  weights=uniform, p=1, n_neighbors=7, leaf_size=24, algorithm=ball_tree, score=0.782, total=  18.0s\n",
      "[CV] weights=uniform, p=1, n_neighbors=7, leaf_size=24, algorithm=ball_tree \n",
      "[CV]  weights=uniform, p=1, n_neighbors=7, leaf_size=24, algorithm=ball_tree, score=0.788, total=  18.3s\n",
      "[CV] weights=uniform, p=1, n_neighbors=7, leaf_size=24, algorithm=ball_tree \n",
      "[CV]  weights=uniform, p=1, n_neighbors=7, leaf_size=24, algorithm=ball_tree, score=0.781, total=  18.2s\n",
      "[CV] weights=uniform, p=1, n_neighbors=27, leaf_size=18, algorithm=kd_tree \n",
      "[CV]  weights=uniform, p=1, n_neighbors=27, leaf_size=18, algorithm=kd_tree, score=0.760, total=  17.9s\n",
      "[CV] weights=uniform, p=1, n_neighbors=27, leaf_size=18, algorithm=kd_tree \n",
      "[CV]  weights=uniform, p=1, n_neighbors=27, leaf_size=18, algorithm=kd_tree, score=0.760, total=  17.7s\n",
      "[CV] weights=uniform, p=1, n_neighbors=27, leaf_size=18, algorithm=kd_tree \n",
      "[CV]  weights=uniform, p=1, n_neighbors=27, leaf_size=18, algorithm=kd_tree, score=0.765, total=  18.1s\n",
      "[CV] weights=uniform, p=1, n_neighbors=27, leaf_size=18, algorithm=kd_tree \n",
      "[CV]  weights=uniform, p=1, n_neighbors=27, leaf_size=18, algorithm=kd_tree, score=0.766, total=  18.5s\n",
      "[CV] weights=uniform, p=1, n_neighbors=27, leaf_size=18, algorithm=kd_tree \n",
      "[CV]  weights=uniform, p=1, n_neighbors=27, leaf_size=18, algorithm=kd_tree, score=0.759, total=  18.3s\n",
      "[CV] weights=distance, p=1, n_neighbors=21, leaf_size=1, algorithm=kd_tree \n",
      "[CV]  weights=distance, p=1, n_neighbors=21, leaf_size=1, algorithm=kd_tree, score=0.784, total=  17.3s\n",
      "[CV] weights=distance, p=1, n_neighbors=21, leaf_size=1, algorithm=kd_tree \n",
      "[CV]  weights=distance, p=1, n_neighbors=21, leaf_size=1, algorithm=kd_tree, score=0.790, total=  17.6s\n",
      "[CV] weights=distance, p=1, n_neighbors=21, leaf_size=1, algorithm=kd_tree \n",
      "[CV]  weights=distance, p=1, n_neighbors=21, leaf_size=1, algorithm=kd_tree, score=0.791, total=  17.6s\n",
      "[CV] weights=distance, p=1, n_neighbors=21, leaf_size=1, algorithm=kd_tree \n",
      "[CV]  weights=distance, p=1, n_neighbors=21, leaf_size=1, algorithm=kd_tree, score=0.796, total=  18.3s\n",
      "[CV] weights=distance, p=1, n_neighbors=21, leaf_size=1, algorithm=kd_tree \n",
      "[CV]  weights=distance, p=1, n_neighbors=21, leaf_size=1, algorithm=kd_tree, score=0.785, total=  18.3s\n",
      "[CV] weights=uniform, p=2, n_neighbors=16, leaf_size=23, algorithm=ball_tree \n",
      "[CV]  weights=uniform, p=2, n_neighbors=16, leaf_size=23, algorithm=ball_tree, score=0.766, total=  29.6s\n",
      "[CV] weights=uniform, p=2, n_neighbors=16, leaf_size=23, algorithm=ball_tree \n",
      "[CV]  weights=uniform, p=2, n_neighbors=16, leaf_size=23, algorithm=ball_tree, score=0.766, total=  29.1s\n",
      "[CV] weights=uniform, p=2, n_neighbors=16, leaf_size=23, algorithm=ball_tree \n",
      "[CV]  weights=uniform, p=2, n_neighbors=16, leaf_size=23, algorithm=ball_tree, score=0.770, total=  29.7s\n",
      "[CV] weights=uniform, p=2, n_neighbors=16, leaf_size=23, algorithm=ball_tree \n",
      "[CV]  weights=uniform, p=2, n_neighbors=16, leaf_size=23, algorithm=ball_tree, score=0.770, total=  30.2s\n",
      "[CV] weights=uniform, p=2, n_neighbors=16, leaf_size=23, algorithm=ball_tree \n",
      "[CV]  weights=uniform, p=2, n_neighbors=16, leaf_size=23, algorithm=ball_tree, score=0.765, total=  29.7s\n",
      "[CV] weights=uniform, p=1, n_neighbors=2, leaf_size=33, algorithm=kd_tree \n",
      "[CV]  weights=uniform, p=1, n_neighbors=2, leaf_size=33, algorithm=kd_tree, score=0.770, total=  15.4s\n",
      "[CV] weights=uniform, p=1, n_neighbors=2, leaf_size=33, algorithm=kd_tree \n",
      "[CV]  weights=uniform, p=1, n_neighbors=2, leaf_size=33, algorithm=kd_tree, score=0.775, total=  15.1s\n",
      "[CV] weights=uniform, p=1, n_neighbors=2, leaf_size=33, algorithm=kd_tree \n",
      "[CV]  weights=uniform, p=1, n_neighbors=2, leaf_size=33, algorithm=kd_tree, score=0.774, total=  15.1s\n",
      "[CV] weights=uniform, p=1, n_neighbors=2, leaf_size=33, algorithm=kd_tree \n",
      "[CV]  weights=uniform, p=1, n_neighbors=2, leaf_size=33, algorithm=kd_tree, score=0.781, total=  15.1s\n",
      "[CV] weights=uniform, p=1, n_neighbors=2, leaf_size=33, algorithm=kd_tree \n",
      "[CV]  weights=uniform, p=1, n_neighbors=2, leaf_size=33, algorithm=kd_tree, score=0.775, total=  15.7s\n",
      "[CV] weights=distance, p=1, n_neighbors=14, leaf_size=44, algorithm=auto \n",
      "[CV]  weights=distance, p=1, n_neighbors=14, leaf_size=44, algorithm=auto, score=0.783, total=  17.8s\n",
      "[CV] weights=distance, p=1, n_neighbors=14, leaf_size=44, algorithm=auto \n",
      "[CV]  weights=distance, p=1, n_neighbors=14, leaf_size=44, algorithm=auto, score=0.790, total=  17.6s\n",
      "[CV] weights=distance, p=1, n_neighbors=14, leaf_size=44, algorithm=auto \n",
      "[CV]  weights=distance, p=1, n_neighbors=14, leaf_size=44, algorithm=auto, score=0.791, total=  17.7s\n",
      "[CV] weights=distance, p=1, n_neighbors=14, leaf_size=44, algorithm=auto \n",
      "[CV]  weights=distance, p=1, n_neighbors=14, leaf_size=44, algorithm=auto, score=0.796, total=  18.5s\n",
      "[CV] weights=distance, p=1, n_neighbors=14, leaf_size=44, algorithm=auto \n",
      "[CV]  weights=distance, p=1, n_neighbors=14, leaf_size=44, algorithm=auto, score=0.788, total=  17.9s\n",
      "[CV] weights=uniform, p=2, n_neighbors=12, leaf_size=26, algorithm=auto \n",
      "[CV]  weights=uniform, p=2, n_neighbors=12, leaf_size=26, algorithm=auto, score=0.768, total=  30.4s\n",
      "[CV] weights=uniform, p=2, n_neighbors=12, leaf_size=26, algorithm=auto \n",
      "[CV]  weights=uniform, p=2, n_neighbors=12, leaf_size=26, algorithm=auto, score=0.772, total=  31.8s\n",
      "[CV] weights=uniform, p=2, n_neighbors=12, leaf_size=26, algorithm=auto \n",
      "[CV]  weights=uniform, p=2, n_neighbors=12, leaf_size=26, algorithm=auto, score=0.774, total=  32.7s\n",
      "[CV] weights=uniform, p=2, n_neighbors=12, leaf_size=26, algorithm=auto \n",
      "[CV]  weights=uniform, p=2, n_neighbors=12, leaf_size=26, algorithm=auto, score=0.774, total=  29.9s\n",
      "[CV] weights=uniform, p=2, n_neighbors=12, leaf_size=26, algorithm=auto \n",
      "[CV]  weights=uniform, p=2, n_neighbors=12, leaf_size=26, algorithm=auto, score=0.769, total=  29.6s\n",
      "[CV] weights=distance, p=1, n_neighbors=28, leaf_size=7, algorithm=auto \n",
      "[CV]  weights=distance, p=1, n_neighbors=28, leaf_size=7, algorithm=auto, score=0.783, total=  17.5s\n",
      "[CV] weights=distance, p=1, n_neighbors=28, leaf_size=7, algorithm=auto \n",
      "[CV]  weights=distance, p=1, n_neighbors=28, leaf_size=7, algorithm=auto, score=0.791, total=  21.6s\n",
      "[CV] weights=distance, p=1, n_neighbors=28, leaf_size=7, algorithm=auto \n",
      "[CV]  weights=distance, p=1, n_neighbors=28, leaf_size=7, algorithm=auto, score=0.790, total=  20.0s\n",
      "[CV] weights=distance, p=1, n_neighbors=28, leaf_size=7, algorithm=auto \n",
      "[CV]  weights=distance, p=1, n_neighbors=28, leaf_size=7, algorithm=auto, score=0.795, total=  20.1s\n",
      "[CV] weights=distance, p=1, n_neighbors=28, leaf_size=7, algorithm=auto \n",
      "[CV]  weights=distance, p=1, n_neighbors=28, leaf_size=7, algorithm=auto, score=0.784, total=  19.7s\n",
      "KNeighborsClassifier(leaf_size=9, p=1)\n",
      "{'p': 1, 'n_neighbors': 5, 'leaf_size': 9}\n",
      "0.7818742985409652\n"
     ]
    },
    {
     "name": "stderr",
     "output_type": "stream",
     "text": [
      "[Parallel(n_jobs=1)]: Done  50 out of  50 | elapsed: 18.1min finished\n"
     ]
    }
   ],
   "source": [
    "#define parameter for RandomForestClassifier\n",
    "params = {'leaf_size':list(range(1,50)),\n",
    "        'n_neighbors':list(range(1,30)),\n",
    "        'algorithm' :['auto','ball_tree','kd_tree','brute'],\n",
    "        'weights' : ['uniform','distance'],\n",
    "        'p':[1, 2]\n",
    "         }\n",
    "\n",
    "knn = KNeighborsClassifier()\n",
    "\n",
    "clf = RandomizedSearchCV(knn, \n",
    "                   params, \n",
    "                   scoring='accuracy', \n",
    "                   verbose=10,\n",
    "                   cv = 5)\n",
    "clf.fit(X_train_prep, y_train)\n",
    "\n",
    "print(random_search.best_estimator_)\n",
    "print(random_search.best_params_)\n",
    "print(random_search.best_score_)"
   ]
  },
  {
   "cell_type": "code",
   "execution_count": 69,
   "metadata": {},
   "outputs": [
    {
     "data": {
      "text/plain": [
       "KNeighborsClassifier(leaf_size=44, n_neighbors=14, p=1, weights='distance')"
      ]
     },
     "execution_count": 69,
     "metadata": {},
     "output_type": "execute_result"
    }
   ],
   "source": [
    "model_opt = KNeighborsClassifier(weights=\"distance\", \n",
    "                                p=1, \n",
    "                                n_neighbors=14, \n",
    "                                leaf_size=44, \n",
    "                                algorithm=\"auto\")\n",
    "model_opt.fit(X_train_prep, y_train)"
   ]
  },
  {
   "cell_type": "code",
   "execution_count": 70,
   "metadata": {},
   "outputs": [
    {
     "data": {
      "text/plain": [
       "0.794949494949495"
      ]
     },
     "execution_count": 70,
     "metadata": {},
     "output_type": "execute_result"
    }
   ],
   "source": [
    "#predicting validation data with optimized knn model\n",
    "opt_val = model_opt.predict(X_val_prep)\n",
    "\n",
    "#optimized model accuracy\n",
    "accuracy_score(y_val, opt_val)"
   ]
  },
  {
   "cell_type": "markdown",
   "metadata": {},
   "source": [
    "RandomForestClassifier"
   ]
  },
  {
   "cell_type": "code",
   "execution_count": 74,
   "metadata": {
    "scrolled": false
   },
   "outputs": [
    {
     "name": "stdout",
     "output_type": "stream",
     "text": [
      "Fitting 5 folds for each of 10 candidates, totalling 50 fits\n",
      "[CV] n_estimators=20, min_samples_split=2, min_samples_leaf=2, max_features=sqrt, max_depth=50, criterion=gini, bootstrap=True \n"
     ]
    },
    {
     "name": "stderr",
     "output_type": "stream",
     "text": [
      "[Parallel(n_jobs=1)]: Using backend SequentialBackend with 1 concurrent workers.\n"
     ]
    },
    {
     "name": "stdout",
     "output_type": "stream",
     "text": [
      "[CV]  n_estimators=20, min_samples_split=2, min_samples_leaf=2, max_features=sqrt, max_depth=50, criterion=gini, bootstrap=True, score=0.788, total=   7.2s\n",
      "[CV] n_estimators=20, min_samples_split=2, min_samples_leaf=2, max_features=sqrt, max_depth=50, criterion=gini, bootstrap=True \n"
     ]
    },
    {
     "name": "stderr",
     "output_type": "stream",
     "text": [
      "[Parallel(n_jobs=1)]: Done   1 out of   1 | elapsed:    7.1s remaining:    0.0s\n"
     ]
    },
    {
     "name": "stdout",
     "output_type": "stream",
     "text": [
      "[CV]  n_estimators=20, min_samples_split=2, min_samples_leaf=2, max_features=sqrt, max_depth=50, criterion=gini, bootstrap=True, score=0.790, total=   6.7s\n",
      "[CV] n_estimators=20, min_samples_split=2, min_samples_leaf=2, max_features=sqrt, max_depth=50, criterion=gini, bootstrap=True \n"
     ]
    },
    {
     "name": "stderr",
     "output_type": "stream",
     "text": [
      "[Parallel(n_jobs=1)]: Done   2 out of   2 | elapsed:   13.8s remaining:    0.0s\n"
     ]
    },
    {
     "name": "stdout",
     "output_type": "stream",
     "text": [
      "[CV]  n_estimators=20, min_samples_split=2, min_samples_leaf=2, max_features=sqrt, max_depth=50, criterion=gini, bootstrap=True, score=0.794, total=   6.8s\n",
      "[CV] n_estimators=20, min_samples_split=2, min_samples_leaf=2, max_features=sqrt, max_depth=50, criterion=gini, bootstrap=True \n"
     ]
    },
    {
     "name": "stderr",
     "output_type": "stream",
     "text": [
      "[Parallel(n_jobs=1)]: Done   3 out of   3 | elapsed:   20.6s remaining:    0.0s\n"
     ]
    },
    {
     "name": "stdout",
     "output_type": "stream",
     "text": [
      "[CV]  n_estimators=20, min_samples_split=2, min_samples_leaf=2, max_features=sqrt, max_depth=50, criterion=gini, bootstrap=True, score=0.796, total=   6.8s\n",
      "[CV] n_estimators=20, min_samples_split=2, min_samples_leaf=2, max_features=sqrt, max_depth=50, criterion=gini, bootstrap=True \n"
     ]
    },
    {
     "name": "stderr",
     "output_type": "stream",
     "text": [
      "[Parallel(n_jobs=1)]: Done   4 out of   4 | elapsed:   27.4s remaining:    0.0s\n"
     ]
    },
    {
     "name": "stdout",
     "output_type": "stream",
     "text": [
      "[CV]  n_estimators=20, min_samples_split=2, min_samples_leaf=2, max_features=sqrt, max_depth=50, criterion=gini, bootstrap=True, score=0.788, total=   6.8s\n",
      "[CV] n_estimators=50, min_samples_split=5, min_samples_leaf=4, max_features=sqrt, max_depth=10, criterion=entropy, bootstrap=True \n"
     ]
    },
    {
     "name": "stderr",
     "output_type": "stream",
     "text": [
      "[Parallel(n_jobs=1)]: Done   5 out of   5 | elapsed:   34.2s remaining:    0.0s\n"
     ]
    },
    {
     "name": "stdout",
     "output_type": "stream",
     "text": [
      "[CV]  n_estimators=50, min_samples_split=5, min_samples_leaf=4, max_features=sqrt, max_depth=10, criterion=entropy, bootstrap=True, score=0.723, total=   2.7s\n",
      "[CV] n_estimators=50, min_samples_split=5, min_samples_leaf=4, max_features=sqrt, max_depth=10, criterion=entropy, bootstrap=True \n"
     ]
    },
    {
     "name": "stderr",
     "output_type": "stream",
     "text": [
      "[Parallel(n_jobs=1)]: Done   6 out of   6 | elapsed:   36.9s remaining:    0.0s\n"
     ]
    },
    {
     "name": "stdout",
     "output_type": "stream",
     "text": [
      "[CV]  n_estimators=50, min_samples_split=5, min_samples_leaf=4, max_features=sqrt, max_depth=10, criterion=entropy, bootstrap=True, score=0.723, total=   2.4s\n",
      "[CV] n_estimators=50, min_samples_split=5, min_samples_leaf=4, max_features=sqrt, max_depth=10, criterion=entropy, bootstrap=True \n"
     ]
    },
    {
     "name": "stderr",
     "output_type": "stream",
     "text": [
      "[Parallel(n_jobs=1)]: Done   7 out of   7 | elapsed:   39.3s remaining:    0.0s\n"
     ]
    },
    {
     "name": "stdout",
     "output_type": "stream",
     "text": [
      "[CV]  n_estimators=50, min_samples_split=5, min_samples_leaf=4, max_features=sqrt, max_depth=10, criterion=entropy, bootstrap=True, score=0.730, total=   2.4s\n",
      "[CV] n_estimators=50, min_samples_split=5, min_samples_leaf=4, max_features=sqrt, max_depth=10, criterion=entropy, bootstrap=True \n"
     ]
    },
    {
     "name": "stderr",
     "output_type": "stream",
     "text": [
      "[Parallel(n_jobs=1)]: Done   8 out of   8 | elapsed:   41.6s remaining:    0.0s\n"
     ]
    },
    {
     "name": "stdout",
     "output_type": "stream",
     "text": [
      "[CV]  n_estimators=50, min_samples_split=5, min_samples_leaf=4, max_features=sqrt, max_depth=10, criterion=entropy, bootstrap=True, score=0.732, total=   2.3s\n",
      "[CV] n_estimators=50, min_samples_split=5, min_samples_leaf=4, max_features=sqrt, max_depth=10, criterion=entropy, bootstrap=True \n"
     ]
    },
    {
     "name": "stderr",
     "output_type": "stream",
     "text": [
      "[Parallel(n_jobs=1)]: Done   9 out of   9 | elapsed:   43.9s remaining:    0.0s\n"
     ]
    },
    {
     "name": "stdout",
     "output_type": "stream",
     "text": [
      "[CV]  n_estimators=50, min_samples_split=5, min_samples_leaf=4, max_features=sqrt, max_depth=10, criterion=entropy, bootstrap=True, score=0.724, total=   2.3s\n",
      "[CV] n_estimators=75, min_samples_split=10, min_samples_leaf=4, max_features=auto, max_depth=None, criterion=entropy, bootstrap=True \n",
      "[CV]  n_estimators=75, min_samples_split=10, min_samples_leaf=4, max_features=auto, max_depth=None, criterion=entropy, bootstrap=True, score=0.771, total=  13.5s\n",
      "[CV] n_estimators=75, min_samples_split=10, min_samples_leaf=4, max_features=auto, max_depth=None, criterion=entropy, bootstrap=True \n",
      "[CV]  n_estimators=75, min_samples_split=10, min_samples_leaf=4, max_features=auto, max_depth=None, criterion=entropy, bootstrap=True, score=0.774, total=  13.3s\n",
      "[CV] n_estimators=75, min_samples_split=10, min_samples_leaf=4, max_features=auto, max_depth=None, criterion=entropy, bootstrap=True \n",
      "[CV]  n_estimators=75, min_samples_split=10, min_samples_leaf=4, max_features=auto, max_depth=None, criterion=entropy, bootstrap=True, score=0.776, total=  12.7s\n",
      "[CV] n_estimators=75, min_samples_split=10, min_samples_leaf=4, max_features=auto, max_depth=None, criterion=entropy, bootstrap=True \n",
      "[CV]  n_estimators=75, min_samples_split=10, min_samples_leaf=4, max_features=auto, max_depth=None, criterion=entropy, bootstrap=True, score=0.777, total=  12.6s\n",
      "[CV] n_estimators=75, min_samples_split=10, min_samples_leaf=4, max_features=auto, max_depth=None, criterion=entropy, bootstrap=True \n",
      "[CV]  n_estimators=75, min_samples_split=10, min_samples_leaf=4, max_features=auto, max_depth=None, criterion=entropy, bootstrap=True, score=0.774, total=  12.9s\n",
      "[CV] n_estimators=150, min_samples_split=5, min_samples_leaf=1, max_features=sqrt, max_depth=5, criterion=entropy, bootstrap=False \n",
      "[CV]  n_estimators=150, min_samples_split=5, min_samples_leaf=1, max_features=sqrt, max_depth=5, criterion=entropy, bootstrap=False, score=0.697, total=   3.5s\n",
      "[CV] n_estimators=150, min_samples_split=5, min_samples_leaf=1, max_features=sqrt, max_depth=5, criterion=entropy, bootstrap=False \n",
      "[CV]  n_estimators=150, min_samples_split=5, min_samples_leaf=1, max_features=sqrt, max_depth=5, criterion=entropy, bootstrap=False, score=0.699, total=   2.6s\n",
      "[CV] n_estimators=150, min_samples_split=5, min_samples_leaf=1, max_features=sqrt, max_depth=5, criterion=entropy, bootstrap=False \n",
      "[CV]  n_estimators=150, min_samples_split=5, min_samples_leaf=1, max_features=sqrt, max_depth=5, criterion=entropy, bootstrap=False, score=0.687, total=   2.8s\n",
      "[CV] n_estimators=150, min_samples_split=5, min_samples_leaf=1, max_features=sqrt, max_depth=5, criterion=entropy, bootstrap=False \n",
      "[CV]  n_estimators=150, min_samples_split=5, min_samples_leaf=1, max_features=sqrt, max_depth=5, criterion=entropy, bootstrap=False, score=0.696, total=   2.5s\n",
      "[CV] n_estimators=150, min_samples_split=5, min_samples_leaf=1, max_features=sqrt, max_depth=5, criterion=entropy, bootstrap=False \n",
      "[CV]  n_estimators=150, min_samples_split=5, min_samples_leaf=1, max_features=sqrt, max_depth=5, criterion=entropy, bootstrap=False, score=0.683, total=   2.7s\n",
      "[CV] n_estimators=5, min_samples_split=2, min_samples_leaf=2, max_features=sqrt, max_depth=None, criterion=gini, bootstrap=True \n",
      "[CV]  n_estimators=5, min_samples_split=2, min_samples_leaf=2, max_features=sqrt, max_depth=None, criterion=gini, bootstrap=True, score=0.775, total=   1.7s\n",
      "[CV] n_estimators=5, min_samples_split=2, min_samples_leaf=2, max_features=sqrt, max_depth=None, criterion=gini, bootstrap=True \n",
      "[CV]  n_estimators=5, min_samples_split=2, min_samples_leaf=2, max_features=sqrt, max_depth=None, criterion=gini, bootstrap=True, score=0.779, total=   1.6s\n",
      "[CV] n_estimators=5, min_samples_split=2, min_samples_leaf=2, max_features=sqrt, max_depth=None, criterion=gini, bootstrap=True \n",
      "[CV]  n_estimators=5, min_samples_split=2, min_samples_leaf=2, max_features=sqrt, max_depth=None, criterion=gini, bootstrap=True, score=0.785, total=   1.6s\n",
      "[CV] n_estimators=5, min_samples_split=2, min_samples_leaf=2, max_features=sqrt, max_depth=None, criterion=gini, bootstrap=True \n",
      "[CV]  n_estimators=5, min_samples_split=2, min_samples_leaf=2, max_features=sqrt, max_depth=None, criterion=gini, bootstrap=True, score=0.784, total=   1.7s\n",
      "[CV] n_estimators=5, min_samples_split=2, min_samples_leaf=2, max_features=sqrt, max_depth=None, criterion=gini, bootstrap=True \n",
      "[CV]  n_estimators=5, min_samples_split=2, min_samples_leaf=2, max_features=sqrt, max_depth=None, criterion=gini, bootstrap=True, score=0.772, total=   1.6s\n",
      "[CV] n_estimators=5, min_samples_split=5, min_samples_leaf=4, max_features=auto, max_depth=2, criterion=entropy, bootstrap=False \n",
      "[CV]  n_estimators=5, min_samples_split=5, min_samples_leaf=4, max_features=auto, max_depth=2, criterion=entropy, bootstrap=False, score=0.617, total=   0.1s\n",
      "[CV] n_estimators=5, min_samples_split=5, min_samples_leaf=4, max_features=auto, max_depth=2, criterion=entropy, bootstrap=False \n",
      "[CV]  n_estimators=5, min_samples_split=5, min_samples_leaf=4, max_features=auto, max_depth=2, criterion=entropy, bootstrap=False, score=0.612, total=   0.1s\n",
      "[CV] n_estimators=5, min_samples_split=5, min_samples_leaf=4, max_features=auto, max_depth=2, criterion=entropy, bootstrap=False \n",
      "[CV]  n_estimators=5, min_samples_split=5, min_samples_leaf=4, max_features=auto, max_depth=2, criterion=entropy, bootstrap=False, score=0.632, total=   0.1s\n",
      "[CV] n_estimators=5, min_samples_split=5, min_samples_leaf=4, max_features=auto, max_depth=2, criterion=entropy, bootstrap=False \n",
      "[CV]  n_estimators=5, min_samples_split=5, min_samples_leaf=4, max_features=auto, max_depth=2, criterion=entropy, bootstrap=False, score=0.618, total=   0.1s\n",
      "[CV] n_estimators=5, min_samples_split=5, min_samples_leaf=4, max_features=auto, max_depth=2, criterion=entropy, bootstrap=False \n",
      "[CV]  n_estimators=5, min_samples_split=5, min_samples_leaf=4, max_features=auto, max_depth=2, criterion=entropy, bootstrap=False, score=0.570, total=   0.1s\n",
      "[CV] n_estimators=150, min_samples_split=2, min_samples_leaf=1, max_features=sqrt, max_depth=10, criterion=entropy, bootstrap=False \n",
      "[CV]  n_estimators=150, min_samples_split=2, min_samples_leaf=1, max_features=sqrt, max_depth=10, criterion=entropy, bootstrap=False, score=0.725, total=   9.1s\n",
      "[CV] n_estimators=150, min_samples_split=2, min_samples_leaf=1, max_features=sqrt, max_depth=10, criterion=entropy, bootstrap=False \n",
      "[CV]  n_estimators=150, min_samples_split=2, min_samples_leaf=1, max_features=sqrt, max_depth=10, criterion=entropy, bootstrap=False, score=0.731, total=   8.2s\n",
      "[CV] n_estimators=150, min_samples_split=2, min_samples_leaf=1, max_features=sqrt, max_depth=10, criterion=entropy, bootstrap=False \n",
      "[CV]  n_estimators=150, min_samples_split=2, min_samples_leaf=1, max_features=sqrt, max_depth=10, criterion=entropy, bootstrap=False, score=0.733, total=   8.5s\n",
      "[CV] n_estimators=150, min_samples_split=2, min_samples_leaf=1, max_features=sqrt, max_depth=10, criterion=entropy, bootstrap=False \n",
      "[CV]  n_estimators=150, min_samples_split=2, min_samples_leaf=1, max_features=sqrt, max_depth=10, criterion=entropy, bootstrap=False, score=0.735, total=   8.5s\n",
      "[CV] n_estimators=150, min_samples_split=2, min_samples_leaf=1, max_features=sqrt, max_depth=10, criterion=entropy, bootstrap=False \n",
      "[CV]  n_estimators=150, min_samples_split=2, min_samples_leaf=1, max_features=sqrt, max_depth=10, criterion=entropy, bootstrap=False, score=0.726, total=   8.2s\n",
      "[CV] n_estimators=50, min_samples_split=2, min_samples_leaf=4, max_features=auto, max_depth=2, criterion=entropy, bootstrap=False \n",
      "[CV]  n_estimators=50, min_samples_split=2, min_samples_leaf=4, max_features=auto, max_depth=2, criterion=entropy, bootstrap=False, score=0.623, total=   0.6s\n",
      "[CV] n_estimators=50, min_samples_split=2, min_samples_leaf=4, max_features=auto, max_depth=2, criterion=entropy, bootstrap=False \n",
      "[CV]  n_estimators=50, min_samples_split=2, min_samples_leaf=4, max_features=auto, max_depth=2, criterion=entropy, bootstrap=False, score=0.591, total=   0.5s\n",
      "[CV] n_estimators=50, min_samples_split=2, min_samples_leaf=4, max_features=auto, max_depth=2, criterion=entropy, bootstrap=False \n",
      "[CV]  n_estimators=50, min_samples_split=2, min_samples_leaf=4, max_features=auto, max_depth=2, criterion=entropy, bootstrap=False, score=0.594, total=   0.5s\n",
      "[CV] n_estimators=50, min_samples_split=2, min_samples_leaf=4, max_features=auto, max_depth=2, criterion=entropy, bootstrap=False \n"
     ]
    },
    {
     "name": "stdout",
     "output_type": "stream",
     "text": [
      "[CV]  n_estimators=50, min_samples_split=2, min_samples_leaf=4, max_features=auto, max_depth=2, criterion=entropy, bootstrap=False, score=0.620, total=   0.5s\n",
      "[CV] n_estimators=50, min_samples_split=2, min_samples_leaf=4, max_features=auto, max_depth=2, criterion=entropy, bootstrap=False \n",
      "[CV]  n_estimators=50, min_samples_split=2, min_samples_leaf=4, max_features=auto, max_depth=2, criterion=entropy, bootstrap=False, score=0.607, total=   0.6s\n",
      "[CV] n_estimators=75, min_samples_split=20, min_samples_leaf=1, max_features=auto, max_depth=50, criterion=gini, bootstrap=False \n",
      "[CV]  n_estimators=75, min_samples_split=20, min_samples_leaf=1, max_features=auto, max_depth=50, criterion=gini, bootstrap=False, score=0.799, total=  38.8s\n",
      "[CV] n_estimators=75, min_samples_split=20, min_samples_leaf=1, max_features=auto, max_depth=50, criterion=gini, bootstrap=False \n",
      "[CV]  n_estimators=75, min_samples_split=20, min_samples_leaf=1, max_features=auto, max_depth=50, criterion=gini, bootstrap=False, score=0.806, total=  38.1s\n",
      "[CV] n_estimators=75, min_samples_split=20, min_samples_leaf=1, max_features=auto, max_depth=50, criterion=gini, bootstrap=False \n",
      "[CV]  n_estimators=75, min_samples_split=20, min_samples_leaf=1, max_features=auto, max_depth=50, criterion=gini, bootstrap=False, score=0.808, total=  38.5s\n",
      "[CV] n_estimators=75, min_samples_split=20, min_samples_leaf=1, max_features=auto, max_depth=50, criterion=gini, bootstrap=False \n",
      "[CV]  n_estimators=75, min_samples_split=20, min_samples_leaf=1, max_features=auto, max_depth=50, criterion=gini, bootstrap=False, score=0.809, total=  38.3s\n",
      "[CV] n_estimators=75, min_samples_split=20, min_samples_leaf=1, max_features=auto, max_depth=50, criterion=gini, bootstrap=False \n",
      "[CV]  n_estimators=75, min_samples_split=20, min_samples_leaf=1, max_features=auto, max_depth=50, criterion=gini, bootstrap=False, score=0.802, total=  38.0s\n",
      "[CV] n_estimators=75, min_samples_split=2, min_samples_leaf=2, max_features=sqrt, max_depth=None, criterion=gini, bootstrap=True \n",
      "[CV]  n_estimators=75, min_samples_split=2, min_samples_leaf=2, max_features=sqrt, max_depth=None, criterion=gini, bootstrap=True, score=0.793, total=  23.3s\n",
      "[CV] n_estimators=75, min_samples_split=2, min_samples_leaf=2, max_features=sqrt, max_depth=None, criterion=gini, bootstrap=True \n",
      "[CV]  n_estimators=75, min_samples_split=2, min_samples_leaf=2, max_features=sqrt, max_depth=None, criterion=gini, bootstrap=True, score=0.794, total=  23.1s\n",
      "[CV] n_estimators=75, min_samples_split=2, min_samples_leaf=2, max_features=sqrt, max_depth=None, criterion=gini, bootstrap=True \n",
      "[CV]  n_estimators=75, min_samples_split=2, min_samples_leaf=2, max_features=sqrt, max_depth=None, criterion=gini, bootstrap=True, score=0.797, total=  24.7s\n",
      "[CV] n_estimators=75, min_samples_split=2, min_samples_leaf=2, max_features=sqrt, max_depth=None, criterion=gini, bootstrap=True \n",
      "[CV]  n_estimators=75, min_samples_split=2, min_samples_leaf=2, max_features=sqrt, max_depth=None, criterion=gini, bootstrap=True, score=0.800, total=  24.4s\n",
      "[CV] n_estimators=75, min_samples_split=2, min_samples_leaf=2, max_features=sqrt, max_depth=None, criterion=gini, bootstrap=True \n",
      "[CV]  n_estimators=75, min_samples_split=2, min_samples_leaf=2, max_features=sqrt, max_depth=None, criterion=gini, bootstrap=True, score=0.792, total=  29.4s\n"
     ]
    },
    {
     "name": "stderr",
     "output_type": "stream",
     "text": [
      "[Parallel(n_jobs=1)]: Done  50 out of  50 | elapsed:  8.3min finished\n"
     ]
    },
    {
     "name": "stdout",
     "output_type": "stream",
     "text": [
      "RandomForestClassifier(bootstrap=False, max_depth=50, min_samples_split=20,\n",
      "                       n_estimators=75)\n",
      "{'n_estimators': 75, 'min_samples_split': 20, 'min_samples_leaf': 1, 'max_features': 'auto', 'max_depth': 50, 'criterion': 'gini', 'bootstrap': False}\n",
      "0.8049008604564161\n"
     ]
    }
   ],
   "source": [
    "#define parameter for RandomForestClassifier\n",
    "params = {'n_estimators':[2, 5, 10, 20, 50, 75, 150],\n",
    "        'criterion':['gini', 'entropy'],\n",
    "        'max_depth':[2, 5, 10, 20, 50, None],\n",
    "        'min_samples_split':[2, 5, 10, 20],\n",
    "        'min_samples_leaf': [1, 2, 4],\n",
    "        'bootstrap': [True, False],\n",
    "        'max_features': ['auto', 'sqrt'],\n",
    "         }\n",
    "\n",
    "rf = RandomForestClassifier()\n",
    "\n",
    "random_search = RandomizedSearchCV(estimator=rf, \n",
    "                                   param_distributions=params, \n",
    "                                   scoring='accuracy', \n",
    "                                   verbose=10,\n",
    "                                   cv = 5)\n",
    "random_search.fit(X_train_prep, y_train)\n",
    "\n",
    "print(random_search.best_estimator_)\n",
    "print(random_search.best_params_)\n",
    "print(random_search.best_score_)"
   ]
  },
  {
   "cell_type": "code",
   "execution_count": 75,
   "metadata": {},
   "outputs": [
    {
     "data": {
      "text/plain": [
       "0.8087542087542088"
      ]
     },
     "execution_count": 75,
     "metadata": {},
     "output_type": "execute_result"
    }
   ],
   "source": [
    "#predicting validation data with optimized rf model\n",
    "rf_val = random_search.predict(X_val_prep)\n",
    "\n",
    "#optimized model accuracy\n",
    "accuracy_score(y_val, rf_val)"
   ]
  },
  {
   "cell_type": "markdown",
   "metadata": {},
   "source": [
    "#### PREDICT TEST DATA"
   ]
  },
  {
   "cell_type": "code",
   "execution_count": 71,
   "metadata": {},
   "outputs": [],
   "source": [
    "#preprocessing test data\n",
    "X_test_prep = preprocessor.transform(test)"
   ]
  },
  {
   "cell_type": "code",
   "execution_count": 76,
   "metadata": {},
   "outputs": [
    {
     "data": {
      "text/plain": [
       "array(['non functional', 'functional', 'functional', ..., 'functional',\n",
       "       'functional', 'non functional'], dtype=object)"
      ]
     },
     "execution_count": 76,
     "metadata": {},
     "output_type": "execute_result"
    }
   ],
   "source": [
    "#predict test data\n",
    "model_predict = random_search.predict(X_test_prep)\n",
    "model_predict"
   ]
  },
  {
   "cell_type": "markdown",
   "metadata": {},
   "source": [
    "#### SUBMISSION"
   ]
  },
  {
   "cell_type": "code",
   "execution_count": 77,
   "metadata": {},
   "outputs": [
    {
     "data": {
      "text/html": [
       "<div>\n",
       "<style scoped>\n",
       "    .dataframe tbody tr th:only-of-type {\n",
       "        vertical-align: middle;\n",
       "    }\n",
       "\n",
       "    .dataframe tbody tr th {\n",
       "        vertical-align: top;\n",
       "    }\n",
       "\n",
       "    .dataframe thead th {\n",
       "        text-align: right;\n",
       "    }\n",
       "</style>\n",
       "<table border=\"1\" class=\"dataframe\">\n",
       "  <thead>\n",
       "    <tr style=\"text-align: right;\">\n",
       "      <th></th>\n",
       "      <th>id</th>\n",
       "      <th>status_group</th>\n",
       "    </tr>\n",
       "  </thead>\n",
       "  <tbody>\n",
       "    <tr>\n",
       "      <th>0</th>\n",
       "      <td>50785</td>\n",
       "      <td>non functional</td>\n",
       "    </tr>\n",
       "    <tr>\n",
       "      <th>1</th>\n",
       "      <td>51630</td>\n",
       "      <td>functional</td>\n",
       "    </tr>\n",
       "    <tr>\n",
       "      <th>2</th>\n",
       "      <td>17168</td>\n",
       "      <td>functional</td>\n",
       "    </tr>\n",
       "    <tr>\n",
       "      <th>3</th>\n",
       "      <td>45559</td>\n",
       "      <td>non functional</td>\n",
       "    </tr>\n",
       "    <tr>\n",
       "      <th>4</th>\n",
       "      <td>49871</td>\n",
       "      <td>functional</td>\n",
       "    </tr>\n",
       "    <tr>\n",
       "      <th>...</th>\n",
       "      <td>...</td>\n",
       "      <td>...</td>\n",
       "    </tr>\n",
       "    <tr>\n",
       "      <th>14845</th>\n",
       "      <td>39307</td>\n",
       "      <td>non functional</td>\n",
       "    </tr>\n",
       "    <tr>\n",
       "      <th>14846</th>\n",
       "      <td>18990</td>\n",
       "      <td>functional</td>\n",
       "    </tr>\n",
       "    <tr>\n",
       "      <th>14847</th>\n",
       "      <td>28749</td>\n",
       "      <td>functional</td>\n",
       "    </tr>\n",
       "    <tr>\n",
       "      <th>14848</th>\n",
       "      <td>33492</td>\n",
       "      <td>functional</td>\n",
       "    </tr>\n",
       "    <tr>\n",
       "      <th>14849</th>\n",
       "      <td>68707</td>\n",
       "      <td>non functional</td>\n",
       "    </tr>\n",
       "  </tbody>\n",
       "</table>\n",
       "<p>14850 rows × 2 columns</p>\n",
       "</div>"
      ],
      "text/plain": [
       "          id    status_group\n",
       "0      50785  non functional\n",
       "1      51630      functional\n",
       "2      17168      functional\n",
       "3      45559  non functional\n",
       "4      49871      functional\n",
       "...      ...             ...\n",
       "14845  39307  non functional\n",
       "14846  18990      functional\n",
       "14847  28749      functional\n",
       "14848  33492      functional\n",
       "14849  68707  non functional\n",
       "\n",
       "[14850 rows x 2 columns]"
      ]
     },
     "execution_count": 77,
     "metadata": {},
     "output_type": "execute_result"
    }
   ],
   "source": [
    "SubmissionFormat[\"status_group\"] = model_predict\n",
    "SubmissionFormat.to_csv('data_mining_water_table.csv',index=False)\n",
    "SubmissionFormat"
   ]
  },
  {
   "cell_type": "code",
   "execution_count": null,
   "metadata": {},
   "outputs": [],
   "source": []
  }
 ],
 "metadata": {
  "kernelspec": {
   "display_name": "Python 3",
   "language": "python",
   "name": "python3"
  },
  "language_info": {
   "codemirror_mode": {
    "name": "ipython",
    "version": 3
   },
   "file_extension": ".py",
   "mimetype": "text/x-python",
   "name": "python",
   "nbconvert_exporter": "python",
   "pygments_lexer": "ipython3",
   "version": "3.8.5"
  }
 },
 "nbformat": 4,
 "nbformat_minor": 4
}
